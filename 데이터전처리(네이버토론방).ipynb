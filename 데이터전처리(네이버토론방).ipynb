{
  "nbformat": 4,
  "nbformat_minor": 0,
  "metadata": {
    "colab": {
      "name": "데이터전처리(네이버토론방).ipynb",
      "provenance": [],
      "collapsed_sections": [],
      "authorship_tag": "ABX9TyMYmZ5DjbTOYLh0/VU/Q0lV",
      "include_colab_link": true
    },
    "kernelspec": {
      "name": "python3",
      "display_name": "Python 3"
    },
    "language_info": {
      "name": "python"
    }
  },
  "cells": [
    {
      "cell_type": "markdown",
      "metadata": {
        "id": "view-in-github",
        "colab_type": "text"
      },
      "source": [
        "<a href=\"https://colab.research.google.com/github/Pjh940114/ch_project_3/blob/master/%EB%8D%B0%EC%9D%B4%ED%84%B0%EC%A0%84%EC%B2%98%EB%A6%AC(%EB%84%A4%EC%9D%B4%EB%B2%84%ED%86%A0%EB%A1%A0%EB%B0%A9).ipynb\" target=\"_parent\"><img src=\"https://colab.research.google.com/assets/colab-badge.svg\" alt=\"Open In Colab\"/></a>"
      ]
    },
    {
      "cell_type": "code",
      "execution_count": null,
      "metadata": {
        "id": "gIaeOg9aOhpL",
        "colab": {
          "base_uri": "https://localhost:8080/"
        },
        "outputId": "ad6127e9-93b5-4304-ed57-e219fe6a5719"
      },
      "outputs": [
        {
          "output_type": "stream",
          "name": "stdout",
          "text": [
            "Mounted at /content/drive\n"
          ]
        }
      ],
      "source": [
        "from google.colab import drive\n",
        "drive.mount('/content/drive')"
      ]
    },
    {
      "cell_type": "code",
      "source": [
        "import pandas as pd\n",
        "from datetime import datetime\n",
        "import re\n",
        "import os\n",
        "import numpy as np\n",
        "import time"
      ],
      "metadata": {
        "id": "DTH1O3nfOo6c"
      },
      "execution_count": null,
      "outputs": []
    },
    {
      "cell_type": "code",
      "source": [
        "# 경로 및 기본설정\n",
        "start = time.time()\n",
        "\n",
        "default_path = '/content/drive/MyDrive/krx_nlp/'\n",
        "default_list = ['lg_chem', 'samsung_sdi', 'sk_innov', 'posco_chem', 'korea_zinc'] # 네이버 다음 주식 이름 통일\n",
        "\n",
        "naver_raw_list = ['LG화학', '삼성SDI', 'SK이노베이션', '포스코케미칼', '고려아연']\n",
        "daum_raw_list = ['LGCM', 'SSSDI', 'SKIV', 'POSCOCM', 'KoreaZinc']\n",
        "\n",
        "naver_to_default = dict(zip(naver_raw_list, default_list))\n",
        "daum_to_default = dict(zip(daum_raw_list, default_list))\n",
        "\n",
        "naver = 'naver_board_'\n",
        "daum = 'daum_talks_'\n",
        "\n",
        "# stopwords 설정\n",
        "stopwords = ['삭제된 게시물의 답글', '[자막뉴스]']\n",
        "\n",
        "# 댓글 달린 수 삭제\n",
        "for i in range(20):\n",
        "  stopwords.append(str([i]))"
      ],
      "metadata": {
        "id": "otlMulRWOo4a"
      },
      "execution_count": null,
      "outputs": []
    },
    {
      "cell_type": "code",
      "source": [
        "# 파일 이름 포맷 통일\n",
        "def changefilename(path):\n",
        "  for k, v in naver_to_default.items():\n",
        "    os.rename(path + naver + k + '.csv', path + v + '_naver' + '.csv')\n",
        "\n",
        "  for k, v in daum_to_default.items():\n",
        "    os.rename(path + daum + k + '.csv', path + v + '_daum' + '.csv')\n",
        "\n",
        "################ 최초 1회 실행 #################\n",
        "# changefilename(default_path + 'rawdata/')"
      ],
      "metadata": {
        "id": "tVDkfDpqVaHX"
      },
      "execution_count": null,
      "outputs": []
    },
    {
      "cell_type": "code",
      "source": [
        "# 불러오기\n",
        "def read_csv(files, path):\n",
        "  for file in files:\n",
        "    try:\n",
        "      globals()[file.split('.')[0]] = pd.read_csv(path + '{}'.format(file), encoding = 'utf-8-sig')\n",
        "    except:\n",
        "      print(\"not read :\", file)\n",
        "\n",
        "read_csv(os.listdir(default_path + 'rawdata/'), default_path + 'rawdata/')"
      ],
      "metadata": {
        "id": "C-q2LhYyOo2I",
        "colab": {
          "base_uri": "https://localhost:8080/"
        },
        "outputId": "17f0fdb0-6a31-4520-d5c5-de3b080b9f8a"
      },
      "execution_count": null,
      "outputs": [
        {
          "output_type": "stream",
          "name": "stdout",
          "text": [
            "not read : sample_stock_data.csv\n",
            "not read : .ipynb_checkpoints\n"
          ]
        }
      ]
    },
    {
      "cell_type": "code",
      "source": [
        "def set_df(channel, df):\n",
        "  print(\"전처리 전 데이터 길이 :\", len(df))\n",
        "  # df 역순으로 만들기\n",
        "  r_idx = [i for i in range(df.shape[0]-1, -1, -1)]\n",
        "  r_df = pd.DataFrame(df, index = r_idx)\n",
        "\n",
        "  # 인덱스 초기화\n",
        "  r_df.reset_index(drop = True, inplace = True)\n",
        "  df = r_df\n",
        "\n",
        "  # column 제거 및 이름 변경\n",
        "  if channel == 'naver':\n",
        "    df.drop(columns = ['글쓴이', '조회', '공감', '비공감'], inplace = True)\n",
        "\n",
        "  elif channel == 'daum':\n",
        "    df.drop(columns = ['Unnamed: 0', '종목명'], inplace = True)\n",
        "\n",
        "    # column 순서 변경\n",
        "    col1 = df.columns[1:].to_list()\n",
        "    col2 = df.columns[:1].to_list()\n",
        "    new_col = col1 + col2\n",
        "    df = df[new_col]\n",
        "\n",
        "  # column명 통일\n",
        "  df.columns = ['day', 'title']\n",
        "\n",
        "  # 날짜 세팅(YYYY-MM-DD)\n",
        "  df['day'] = df['day'].str.replace(\"[^0-9]\", \"\")\n",
        "\n",
        "  if channel == 'naver':\n",
        "    for i in range(len(df['day'])):\n",
        "      df['day'][i] = df['day'][i][:8]\n",
        "\n",
        "    # for i in range(len(df)):\n",
        "    #   df.day[i] = datetime.strptime(str(df.day[i]), '%Y%m%d')\n",
        "\n",
        "  # if channel == 'daum':\n",
        "  #   for i in range(len(df)):\n",
        "  #     df.day[i] = datetime.strptime(str(df.day[i]), '%y%m%d')\n",
        "\n",
        "  # 날짜에서 시간 제거\n",
        "  df['day'] = df['day'].astype(str).str.replace(\"00:00:00\",\"\")\n",
        "\n",
        "  # 전처리\n",
        "\n",
        "  # 특수문자 제거 : 한글, 영어, 숫자 살리고 특수문자 -> replace : ex) +/-/%/↑/↓/...\n",
        "  df['title'] = df['title'].str.replace('[^一-龥ㄱ-힣a-zA-Z0-9\\s]+',\"\",regex=True)\n",
        "  # df['Title'] = df['Title'].str.replace('[^가-힣\\sㄱ-ㅎ0-9+-]+',\"\",regex=True)\n",
        "  # df['Title'] = df['Title'].str.replace('^[ㄱ-ㅎ|가-힣|a-z|A-Z|0-9|]*$',\"\",regex=True)\n",
        "\n",
        "  # 공백 제거\n",
        "  df['title'] = df['title'].replace('', np.nan) # 자음까지 살림\n",
        "  df = df.dropna(how = 'any')\n",
        "\n",
        "  # stopwords 제거\n",
        "  df['title'] = df['title'].str.replace(f\"[{stopwords}]\",\"\")\n",
        "\n",
        "  # 제목 중복 제거\n",
        "  df.drop_duplicates(subset = ['title'], inplace = True)\n",
        "\n",
        "  print(\"전처리 후 데이터 길이 :\", len(df))\n",
        "  print(f\"{time.time() - start:.5f} sec\")\n",
        "  return df"
      ],
      "metadata": {
        "id": "npQcHuqszyIB"
      },
      "execution_count": null,
      "outputs": []
    },
    {
      "cell_type": "code",
      "source": [
        "lg_chem_naver = set_df('naver', lg_chem_naver)\n",
        "lg_chem_daum = set_df('daum', lg_chem_daum)\n",
        "samsung_sdi_naver = set_df('naver', samsung_sdi_naver)\n",
        "samsung_sdi_daum = set_df('daum', samsung_sdi_daum)\n",
        "sk_innov_naver = set_df('naver', sk_innov_naver)\n",
        "sk_innov_daum = set_df('daum', sk_innov_daum)\n",
        "posco_chem_naver = set_df('naver', posco_chem_naver)\n",
        "posco_chem_daum = set_df('daum', posco_chem_daum)\n",
        "korea_zinc_naver = set_df('naver', korea_zinc_naver)\n",
        "korea_zinc_daum = set_df('daum', korea_zinc_daum)"
      ],
      "metadata": {
        "colab": {
          "base_uri": "https://localhost:8080/"
        },
        "id": "V86vUcPnij2F",
        "outputId": "eee6107d-fac0-4b68-e2ad-5866121f59ca"
      },
      "execution_count": null,
      "outputs": [
        {
          "output_type": "stream",
          "name": "stdout",
          "text": [
            "전처리 전 데이터 길이 : 66620\n"
          ]
        },
        {
          "output_type": "stream",
          "name": "stderr",
          "text": [
            "/usr/local/lib/python3.7/dist-packages/ipykernel_launcher.py:28: FutureWarning: The default value of regex will change from True to False in a future version.\n",
            "/usr/local/lib/python3.7/dist-packages/ipykernel_launcher.py:56: FutureWarning: The default value of regex will change from True to False in a future version.\n",
            "/usr/local/lib/python3.7/dist-packages/ipykernel_launcher.py:56: SettingWithCopyWarning: \n",
            "A value is trying to be set on a copy of a slice from a DataFrame.\n",
            "Try using .loc[row_indexer,col_indexer] = value instead\n",
            "\n",
            "See the caveats in the documentation: https://pandas.pydata.org/pandas-docs/stable/user_guide/indexing.html#returning-a-view-versus-a-copy\n",
            "/usr/local/lib/python3.7/dist-packages/pandas/util/_decorators.py:311: SettingWithCopyWarning: \n",
            "A value is trying to be set on a copy of a slice from a DataFrame\n",
            "\n",
            "See the caveats in the documentation: https://pandas.pydata.org/pandas-docs/stable/user_guide/indexing.html#returning-a-view-versus-a-copy\n",
            "  return func(*args, **kwargs)\n"
          ]
        },
        {
          "output_type": "stream",
          "name": "stdout",
          "text": [
            "전처리 후 데이터 길이 : 57591\n",
            "26.56341 sec\n",
            "전처리 전 데이터 길이 : 573\n",
            "전처리 후 데이터 길이 : 473\n",
            "26.57944 sec\n",
            "전처리 전 데이터 길이 : 44084\n",
            "전처리 후 데이터 길이 : 37370\n",
            "37.76559 sec\n",
            "전처리 전 데이터 길이 : 313\n",
            "전처리 후 데이터 길이 : 269\n",
            "37.77949 sec\n",
            "전처리 전 데이터 길이 : 101211\n",
            "전처리 후 데이터 길이 : 87654\n",
            "90.71582 sec\n",
            "전처리 전 데이터 길이 : 288\n",
            "전처리 후 데이터 길이 : 253\n",
            "90.73063 sec\n",
            "전처리 전 데이터 길이 : 33161\n",
            "전처리 후 데이터 길이 : 28705\n",
            "100.01965 sec\n",
            "전처리 전 데이터 길이 : 120\n",
            "전처리 후 데이터 길이 : 114\n",
            "100.02928 sec\n",
            "전처리 전 데이터 길이 : 4303\n",
            "전처리 후 데이터 길이 : 3940\n",
            "100.41996 sec\n",
            "전처리 전 데이터 길이 : 44\n",
            "전처리 후 데이터 길이 : 42\n",
            "100.42953 sec\n"
          ]
        }
      ]
    },
    {
      "cell_type": "code",
      "source": [
        "# 기간 설정\n",
        "start_date = '2021-01-01'\n",
        "end_date = '2022-06-30'\n",
        "\n",
        "def join_date(df, start_date, end_date):\n",
        "  mask = (df['Date'] > start_date) & (df['Date'] <= end_date)\n",
        "  filtered_df = df.loc[mask]\n",
        "\n",
        "  return filtered_df"
      ],
      "metadata": {
        "id": "S6qb0HWTigtz"
      },
      "execution_count": null,
      "outputs": []
    },
    {
      "cell_type": "code",
      "source": [
        "lg_chem_naver = join_date(lg_chem_naver, start_date, end_date)\n",
        "lg_chem_daum = join_date(lg_chem_daum, start_date, end_date)\n",
        "\n",
        "samsung_sdi_naver = join_date(samsung_sdi_naver, start_date, end_date)\n",
        "samsung_sdi_daum = join_date(samsung_sdi_daum, start_date, end_date)\n",
        "\n",
        "sk_innov_naver = join_date(sk_innov_naver, start_date, end_date)\n",
        "sk_innov_daum = join_date(sk_innov_daum, start_date, end_date)\n",
        "\n",
        "posco_chem_naver = join_date(posco_chem_naver, start_date, end_date)\n",
        "posco_chem_daum = join_date(posco_chem_daum, start_date, end_date)\n",
        "\n",
        "korea_zinc_naver = join_date(korea_zinc_naver, start_date, end_date)\n",
        "korea_zinc_daum = join_date( korea_zinc_daum, start_date, end_date)"
      ],
      "metadata": {
        "id": "5CxWm7Hqn5xe"
      },
      "execution_count": null,
      "outputs": []
    },
    {
      "cell_type": "code",
      "source": [
        "# csv 로 저장하기\n",
        "def save_csv(title, df, start_date, end_date):\n",
        "  filename = title + \"_v1.csv\"\n",
        "  df.to_csv(default_path + 'predata/' + start_date + '_to_' + end_date + '_' +filename, mode='w', encoding = 'utf-8-sig')\n",
        "  print(\"saved file!!\\nfilename : {}\".format(filename))"
      ],
      "metadata": {
        "id": "RsxFpDB_2BH4"
      },
      "execution_count": null,
      "outputs": []
    },
    {
      "cell_type": "code",
      "source": [
        "save_csv(\"lg_chme_naver\", lg_chem_naver, start_date, end_date)\n",
        "save_csv(\"lg_chme_daum\", lg_chem_daum, start_date, end_date)\n",
        "\n",
        "save_csv(\"samsung_sdi_naver\", samsung_sdi_naver, start_date, end_date)\n",
        "save_csv(\"samsung_sdi_daum\", samsung_sdi_daum, start_date, end_date)\n",
        "\n",
        "save_csv(\"sk_innov_naver\", sk_innov_naver, start_date, end_date)\n",
        "save_csv(\"sk_innov_daum\", sk_innov_daum, start_date, end_date)\n",
        "\n",
        "save_csv(\"posco_chem_naver\", posco_chem_naver, start_date, end_date)\n",
        "save_csv(\"posco_chem_daum\", posco_chem_daum, start_date, end_date)\n",
        "\n",
        "save_csv(\"korea_zinc_naver\", korea_zinc_naver, start_date, end_date)\n",
        "save_csv(\"korea_zinc_daum\", korea_zinc_daum, start_date, end_date)"
      ],
      "metadata": {
        "colab": {
          "base_uri": "https://localhost:8080/"
        },
        "id": "_SH6ucwAou5R",
        "outputId": "79eab033-6172-4d28-9faa-d53eeed0031a"
      },
      "execution_count": null,
      "outputs": [
        {
          "output_type": "stream",
          "name": "stdout",
          "text": [
            "saved file!!\n",
            "filename : lg_chme_naver_v1.csv\n",
            "saved file!!\n",
            "filename : lg_chme_daum_v1.csv\n",
            "saved file!!\n",
            "filename : samsung_sdi_naver_v1.csv\n",
            "saved file!!\n",
            "filename : samsung_sdi_daum_v1.csv\n",
            "saved file!!\n",
            "filename : sk_innov_naver_v1.csv\n",
            "saved file!!\n",
            "filename : sk_innov_daum_v1.csv\n",
            "saved file!!\n",
            "filename : posco_chem_naver_v1.csv\n",
            "saved file!!\n",
            "filename : posco_chem_daum_v1.csv\n",
            "saved file!!\n",
            "filename : korea_zinc_naver_v1.csv\n",
            "saved file!!\n",
            "filename : korea_zinc_daum_v1.csv\n"
          ]
        }
      ]
    },
    {
      "cell_type": "code",
      "source": [
        "# 네이버 + 다음 종토방 데이터 합치기\n",
        "def concat_df(naver_df, daum_df):\n",
        "  df = pd.concat([naver_df, daum_df])\n",
        "  return df"
      ],
      "metadata": {
        "id": "kCcaTqIa5qRW"
      },
      "execution_count": null,
      "outputs": []
    },
    {
      "cell_type": "code",
      "source": [
        ""
      ],
      "metadata": {
        "id": "jwKMyTvg4Zwi"
      },
      "execution_count": null,
      "outputs": []
    }
  ]
}