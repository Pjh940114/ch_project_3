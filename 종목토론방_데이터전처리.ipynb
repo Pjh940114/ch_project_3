{
  "nbformat": 4,
  "nbformat_minor": 0,
  "metadata": {
    "colab": {
      "name": "종목토론방 데이터전처리.ipynb",
      "provenance": [],
      "collapsed_sections": [],
      "authorship_tag": "ABX9TyNTtj8cyVCbm4Ct6DzaKx4p",
      "include_colab_link": true
    },
    "kernelspec": {
      "name": "python3",
      "display_name": "Python 3"
    },
    "language_info": {
      "name": "python"
    }
  },
  "cells": [
    {
      "cell_type": "markdown",
      "metadata": {
        "id": "view-in-github",
        "colab_type": "text"
      },
      "source": [
        "<a href=\"https://colab.research.google.com/github/Pjh940114/ch_project_3/blob/master/%EC%A2%85%EB%AA%A9%ED%86%A0%EB%A1%A0%EB%B0%A9_%EB%8D%B0%EC%9D%B4%ED%84%B0%EC%A0%84%EC%B2%98%EB%A6%AC.ipynb\" target=\"_parent\"><img src=\"https://colab.research.google.com/assets/colab-badge.svg\" alt=\"Open In Colab\"/></a>"
      ]
    },
    {
      "cell_type": "code",
      "execution_count": 34,
      "metadata": {
        "id": "gIaeOg9aOhpL",
        "colab": {
          "base_uri": "https://localhost:8080/"
        },
        "outputId": "1e581f08-eb40-47c2-9fa2-713114ab0b33"
      },
      "outputs": [
        {
          "output_type": "stream",
          "name": "stdout",
          "text": [
            "Drive already mounted at /content/drive; to attempt to forcibly remount, call drive.mount(\"/content/drive\", force_remount=True).\n"
          ]
        }
      ],
      "source": [
        "from google.colab import drive\n",
        "drive.mount('/content/drive')"
      ]
    },
    {
      "cell_type": "code",
      "source": [
        "import pandas as pd\n",
        "from datetime import datetime\n",
        "import re\n",
        "import os\n",
        "import numpy as np\n",
        "import time\n",
        "import warnings\n",
        "warnings.filterwarnings('ignore')"
      ],
      "metadata": {
        "id": "DTH1O3nfOo6c"
      },
      "execution_count": 35,
      "outputs": []
    },
    {
      "cell_type": "code",
      "source": [
        "# 경로 및 기본설정\n",
        "start = time.time()\n",
        "\n",
        "default_path = '/content/drive/MyDrive/krx_nlp/'\n",
        "default_list = ['lg_chem', 'samsung_sdi', 'sk_innov', 'posco_chem', 'korea_zinc'] # 네이버 다음 주식 이름 통일\n",
        "\n",
        "naver_raw_list = ['LG화학', '삼성SDI', 'SK이노베이션', '포스코케미칼', '고려아연']\n",
        "daum_raw_list = ['LGCM', 'SSSDI', 'SKIV', 'POSCOCM', 'KoreaZinc']\n",
        "\n",
        "naver_to_default = dict(zip(naver_raw_list, default_list))\n",
        "daum_to_default = dict(zip(daum_raw_list, default_list))\n",
        "\n",
        "naver = 'naver_board_'\n",
        "daum = 'daum_talks_'\n",
        "\n",
        "# stopwords 설정\n",
        "stopwords = ['삭제된 게시물의 답글', '[자막뉴스]']\n",
        "\n",
        "# 댓글 달린 수 삭제\n",
        "for i in range(20):\n",
        "  stopwords.append(str([i]))"
      ],
      "metadata": {
        "id": "otlMulRWOo4a"
      },
      "execution_count": 36,
      "outputs": []
    },
    {
      "cell_type": "code",
      "source": [
        "# 파일 이름 포맷 통일\n",
        "def changefilename(path):\n",
        "  for k, v in naver_to_default.items():\n",
        "    os.rename(path + naver + k + '.csv', path + v + '_naver' + '.csv')\n",
        "\n",
        "  for k, v in daum_to_default.items():\n",
        "    os.rename(path + daum + k + '.csv', path + v + '_daum' + '.csv')\n",
        "\n",
        "################ 최초 1회 실행 #################\n",
        "# changefilename(default_path + 'rawdata/')"
      ],
      "metadata": {
        "id": "tVDkfDpqVaHX"
      },
      "execution_count": 37,
      "outputs": []
    },
    {
      "cell_type": "code",
      "source": [
        "# 불러오기\n",
        "def read_csv(files, path):\n",
        "  for file in files:\n",
        "    try:\n",
        "      globals()[file.split('.')[0]] = pd.read_csv(path + '{}'.format(file), encoding = 'utf-8-sig')\n",
        "    except:\n",
        "      print(\"not read :\", file)\n",
        "\n",
        "read_csv(os.listdir(default_path + 'rawdata/'), default_path + 'rawdata/')"
      ],
      "metadata": {
        "id": "C-q2LhYyOo2I",
        "colab": {
          "base_uri": "https://localhost:8080/"
        },
        "outputId": "564ff434-971c-4735-d359-e89b7ee06fd0"
      },
      "execution_count": 38,
      "outputs": [
        {
          "output_type": "stream",
          "name": "stdout",
          "text": [
            "not read : sample_stock_data.csv\n",
            "not read : .ipynb_checkpoints\n"
          ]
        }
      ]
    },
    {
      "cell_type": "code",
      "source": [
        "def set_df(channel, df):\n",
        "  print(\"전처리 전 데이터 길이 :\", len(df))\n",
        "  # df 역순으로 만들기\n",
        "  r_idx = [i for i in range(df.shape[0]-1, -1, -1)]\n",
        "  r_df = pd.DataFrame(df, index = r_idx)\n",
        "\n",
        "  # 인덱스 초기화\n",
        "  r_df.reset_index(drop = True, inplace = True)\n",
        "  df = r_df\n",
        "\n",
        "  # column 제거 및 이름 변경\n",
        "  if channel == 'naver':\n",
        "    df.drop(columns = ['글쓴이', '조회', '공감', '비공감'], inplace = True)\n",
        "\n",
        "  elif channel == 'daum':\n",
        "    df.drop(columns = ['Unnamed: 0', '종목명'], inplace = True)\n",
        "\n",
        "    # column 순서 변경\n",
        "    col1 = df.columns[1:].to_list()\n",
        "    col2 = df.columns[:1].to_list()\n",
        "    new_col = col1 + col2\n",
        "    df = df[new_col]\n",
        "\n",
        "  # column명 통일\n",
        "  df.columns = ['Date', 'Title']\n",
        "\n",
        "  # 날짜 세팅(YYYY-MM-DD)\n",
        "  df['Date'] = df['Date'].str.replace(\"[^0-9]\", \"\")\n",
        "\n",
        "  if channel == 'naver':\n",
        "    for i in range(len(df['Date'])):\n",
        "      df['Date'][i] = df['Date'][i][:8]\n",
        "\n",
        "    # for i in range(len(df)):\n",
        "    #   df.day[i] = datetime.strptime(str(df.day[i]), '%Y%m%d')\n",
        "\n",
        "  # if channel == 'daum':\n",
        "  #   for i in range(len(df)):\n",
        "  #     df.day[i] = datetime.strptime(str(df.day[i]), '%y%m%d')\n",
        "\n",
        "  # 날짜에서 시간 제거\n",
        "  df['Date'] = df['Date'].astype(str).str.replace(\"00:00:00\",\"\")\n",
        "\n",
        "  # 전처리\n",
        "\n",
        "  # 특수문자 제거 : 한글, 영어, 숫자 살리고 특수문자 -> replace : ex) +/-/%/↑/↓/...\n",
        "  df['Title'] = df['Title'].str.replace('[^一-龥ㄱ-힣a-zA-Z0-9\\s]+',\"\",regex=True)\n",
        "  # df['Title'] = df['Title'].str.replace('[^가-힣\\sㄱ-ㅎ0-9+-]+',\"\",regex=True)\n",
        "  # df['Title'] = df['Title'].str.replace('^[ㄱ-ㅎ|가-힣|a-z|A-Z|0-9|]*$',\"\",regex=True)\n",
        "\n",
        "  # 공백 제거\n",
        "  df['Title'] = df['Title'].replace('', np.nan) # 자음까지 살림\n",
        "  df = df.dropna(how = 'any')\n",
        "\n",
        "  # stopwords 제거\n",
        "  for stopword in stopwords:\n",
        "    df['Title'] = df['Title'].str.replace(f\"{stopword}\",\"\")\n",
        "\n",
        "  # 제목 중복 제거\n",
        "  df.drop_duplicates(subset = ['Title'], inplace = True)\n",
        "\n",
        "  print(\"전처리 후 데이터 길이 :\", len(df))\n",
        "  print(f\"{time.time() - start:.2f} sec\")\n",
        "  return df"
      ],
      "metadata": {
        "id": "npQcHuqszyIB"
      },
      "execution_count": 39,
      "outputs": []
    },
    {
      "cell_type": "code",
      "source": [
        "lg_chem_naver = set_df('naver', lg_chem_naver)\n",
        "lg_chem_daum = set_df('daum', lg_chem_daum)\n",
        "samsung_sdi_naver = set_df('naver', samsung_sdi_naver)\n",
        "samsung_sdi_daum = set_df('daum', samsung_sdi_daum)\n",
        "sk_innov_naver = set_df('naver', sk_innov_naver)\n",
        "sk_innov_daum = set_df('daum', sk_innov_daum)\n",
        "posco_chem_naver = set_df('naver', posco_chem_naver)\n",
        "posco_chem_daum = set_df('daum', posco_chem_daum)\n",
        "korea_zinc_naver = set_df('naver', korea_zinc_naver)\n",
        "korea_zinc_daum = set_df('daum', korea_zinc_daum)"
      ],
      "metadata": {
        "colab": {
          "base_uri": "https://localhost:8080/"
        },
        "id": "V86vUcPnij2F",
        "outputId": "7f8d79ff-16ac-4f86-b4a7-634c6c897a8d"
      },
      "execution_count": 40,
      "outputs": [
        {
          "output_type": "stream",
          "name": "stdout",
          "text": [
            "전처리 전 데이터 길이 : 66620\n",
            "전처리 후 데이터 길이 : 56799\n",
            "32.58 sec\n",
            "전처리 전 데이터 길이 : 573\n",
            "전처리 후 데이터 길이 : 423\n",
            "32.62 sec\n",
            "전처리 전 데이터 길이 : 44084\n",
            "전처리 후 데이터 길이 : 36681\n",
            "46.27 sec\n",
            "전처리 전 데이터 길이 : 313\n",
            "전처리 후 데이터 길이 : 242\n",
            "46.30 sec\n",
            "전처리 전 데이터 길이 : 101211\n",
            "전처리 후 데이터 길이 : 86396\n",
            "100.45 sec\n",
            "전처리 전 데이터 길이 : 288\n",
            "전처리 후 데이터 길이 : 228\n",
            "100.48 sec\n",
            "전처리 전 데이터 길이 : 33161\n",
            "전처리 후 데이터 길이 : 28309\n",
            "110.50 sec\n",
            "전처리 전 데이터 길이 : 120\n",
            "전처리 후 데이터 길이 : 113\n",
            "110.52 sec\n",
            "전처리 전 데이터 길이 : 4303\n",
            "전처리 후 데이터 길이 : 3907\n",
            "111.13 sec\n",
            "전처리 전 데이터 길이 : 44\n",
            "전처리 후 데이터 길이 : 42\n",
            "111.15 sec\n"
          ]
        }
      ]
    },
    {
      "cell_type": "code",
      "source": [
        "def get_date(df):\n",
        "  start_date = '2021-01-01'\n",
        "  end_date = '2022-06-30'\n",
        "  # df_filered = df[df['Date'].between(start_date, end_date)]\n",
        "  try:\n",
        "    df['Date']=df['Date'].apply(lambda _ : datetime.strptime(_,'%Y%m%d'))\n",
        "  except:\n",
        "    pass\n",
        "\n",
        "  mask = (df['Date'] >= start_date) & (df['Date'] <= end_date)\n",
        "  df = df.loc[mask]\n",
        "  return df\n",
        "\n",
        "lg_chem_naver = get_date(lg_chem_naver)\n",
        "# get_date(lg_chem_daum)\n",
        "samsung_sdi_naver = get_date(samsung_sdi_naver)\n",
        "# get_date(samsung_sdi_daum)\n",
        "sk_innov_naver = get_date(sk_innov_naver)\n",
        "# get_date(sk_innov_daum)\n",
        "posco_chem_naver = get_date(posco_chem_naver)\n",
        "# get_date(posco_chem_daum)\n",
        "korea_zinc_naver = get_date(korea_zinc_naver)\n",
        "# get_date(korea_zinc_daum)"
      ],
      "metadata": {
        "id": "V4y07-2viOEP"
      },
      "execution_count": 46,
      "outputs": []
    },
    {
      "cell_type": "code",
      "source": [
        "# 저장하기\n",
        "import os\n",
        "path = '/content/drive/MyDrive/krx_nlp/predata' # 본인 구글 드라이브 계정마다 살짝씩 다를 수도 있음\n",
        "os.chdir(path)\n",
        "\n",
        "# lg_chem_daum.to_csv(\"refined_daum_talks_LG화학.csv\", mode='w', encoding = 'utf-8-sig')\n",
        "# sk_innov_daum.to_csv(\"refined_daum_talks_SK이노베이션.csv\", mode='w', encoding = 'utf-8-sig')\n",
        "# korea_zinc_daum.to_csv(\"refined_daum_talks_고려아연.csv\", mode='w', encoding = 'utf-8-sig')\n",
        "# samsung_sdi_daum.to_csv(\"refined_daum_talks_삼성SDI.csv\", mode='w', encoding = 'utf-8-sig')\n",
        "# posco_chem_daum.to_csv(\"refined_daum_talks_포스코케미칼.csv\", mode='w', encoding = 'utf-8-sig')\n",
        "\n",
        "samsung_sdi_naver.to_csv(\"refined_naver_talks_삼성SDI.csv\", mode='w', encoding = 'utf-8-sig')\n",
        "lg_chem_naver.to_csv(\"refined_naver_talks_LG화학.csv\", mode='w', encoding = 'utf-8-sig')\n",
        "sk_innov_naver.to_csv(\"refined_naver_talks_SK이노베이션.csv\", mode='w', encoding = 'utf-8-sig')\n",
        "posco_chem_naver.to_csv(\"refined_naver_talks_포스코케미칼.csv\", mode='w', encoding = 'utf-8-sig')\n",
        "korea_zinc_naver.to_csv(\"refined_naver_talks_고려아연.csv\", mode='w', encoding = 'utf-8-sig')"
      ],
      "metadata": {
        "id": "yBrL8goeX1ug"
      },
      "execution_count": 47,
      "outputs": []
    },
    {
      "cell_type": "code",
      "source": [
        ""
      ],
      "metadata": {
        "id": "nywCy99SlxPh"
      },
      "execution_count": null,
      "outputs": []
    }
  ]
}