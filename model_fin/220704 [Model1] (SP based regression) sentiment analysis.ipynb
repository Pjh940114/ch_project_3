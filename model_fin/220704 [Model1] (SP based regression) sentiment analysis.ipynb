{
 "cells": [
  {
   "cell_type": "code",
   "execution_count": 3,
   "id": "0c49c27b",
   "metadata": {
    "ExecuteTime": {
     "end_time": "2022-07-05T02:03:19.602090Z",
     "start_time": "2022-07-05T02:03:18.716964Z"
    }
   },
   "outputs": [],
   "source": [
    "import os\n",
    "from tqdm import tqdm\n",
    "\n",
    "os.chdir('G:/내 드라이브/projects/NLP-StockMarket/model_fin/')"
   ]
  },
  {
   "cell_type": "markdown",
   "id": "f8e301d7",
   "metadata": {},
   "source": [
    "## 필요모듈 import"
   ]
  },
  {
   "cell_type": "code",
   "execution_count": 6,
   "id": "6bcd8750",
   "metadata": {
    "ExecuteTime": {
     "end_time": "2022-07-05T02:26:45.248373Z",
     "start_time": "2022-07-05T02:26:41.383938Z"
    }
   },
   "outputs": [],
   "source": [
    "import scipy as sp\n",
    "import pandas as pd\n",
    "import numpy as np\n",
    "\n",
    "from konlpy.tag import Kkma    \n",
    "from konlpy.tag import Hannanum    \n",
    "from konlpy.tag import Okt        \n",
    "from konlpy.tag import *\n",
    "import nltk\n",
    "import pickle\n",
    "\n",
    "# from wordcloud import WordCloud, STOPWORDS\n",
    "from PIL import Image\n",
    "\n",
    "from sklearn.feature_extraction.text import CountVectorizer\n",
    "from sklearn.feature_extraction.text import TfidfVectorizer \n",
    "from sklearn.feature_extraction.text import TfidfTransformer\n",
    "from sklearn.linear_model import LogisticRegression\n",
    "from sklearn.pipeline import Pipeline \n",
    "from sklearn.metrics import accuracy_score\n",
    "from sklearn.model_selection import train_test_split\n",
    "\n",
    "%matplotlib inline\n",
    "import os\n",
    "import matplotlib.pyplot as plt\n",
    "import seaborn as sns\n",
    "import graphviz\n",
    "from sklearn.tree import export_graphviz\n",
    "from datetime import datetime, timedelta\n",
    "\n",
    "import matplotlib.font_manager as fm\n",
    "plt.rc('font', family='NanumGothic')\n",
    "\n",
    "import matplotlib as mpl\n",
    "mpl.rcParams['axes.unicode_minus'] = False\n",
    "\n",
    "import warnings\n",
    "warnings.filterwarnings('ignore')"
   ]
  },
  {
   "cell_type": "code",
   "execution_count": 3,
   "id": "6addc881",
   "metadata": {
    "ExecuteTime": {
     "end_time": "2022-07-04T23:52:46.645639Z",
     "start_time": "2022-07-04T23:52:45.266176Z"
    }
   },
   "outputs": [],
   "source": [
    "kkma = Kkma()\n",
    "hannanum = Hannanum()"
   ]
  },
  {
   "cell_type": "markdown",
   "id": "71e7191e",
   "metadata": {},
   "source": [
    "## 자연어 데이터 import(날짜 가져오기 위해 먼저 가져옴)"
   ]
  },
  {
   "cell_type": "code",
   "execution_count": 15,
   "id": "df59c4df",
   "metadata": {
    "ExecuteTime": {
     "end_time": "2022-07-05T02:11:08.412172Z",
     "start_time": "2022-07-05T02:11:08.395135Z"
    }
   },
   "outputs": [],
   "source": [
    "# LG화학, 삼성SDI, SK이노베이션, 고려아연, 포스코케미칼\n",
    "stock_name = '삼성SDI'"
   ]
  },
  {
   "cell_type": "code",
   "execution_count": 16,
   "id": "3c708bc3",
   "metadata": {
    "ExecuteTime": {
     "end_time": "2022-07-05T02:11:12.314575Z",
     "start_time": "2022-07-05T02:11:10.476863Z"
    }
   },
   "outputs": [],
   "source": [
    "naver_news = pd.read_csv('./data/refined_naver_news.csv', index_col=0)\n",
    "daum_news = pd.read_csv('./data/refined_daum_news.csv', index_col=0)\n",
    "naver_talks = pd.read_csv(f'./data/refined_naver_talks_{stock_name}.csv', index_col=0)\n",
    "daum_talks = pd.read_csv(f'./data/refined_daum_talks_{stock_name}.csv', index_col=0)\n",
    "# youtube = pd.read_csv(f'./data/refined_youtube_{stock_name}.csv', index_col=0)"
   ]
  },
  {
   "cell_type": "code",
   "execution_count": null,
   "id": "0dcef889",
   "metadata": {},
   "outputs": [],
   "source": [
    "talks = pd.concat([naver_talks, daum_talks], ignore_index=True)\n",
    "for i in tqdm(range(len(talks))):\n",
    "    talks['Date'][i] = str(talks['Date'][i]).replace('-', '').strip()"
   ]
  },
  {
   "cell_type": "code",
   "execution_count": 22,
   "id": "836979e4",
   "metadata": {
    "ExecuteTime": {
     "end_time": "2022-07-05T02:13:51.817938Z",
     "start_time": "2022-07-05T02:13:51.760610Z"
    },
    "scrolled": true
   },
   "outputs": [
    {
     "data": {
      "text/html": [
       "<div>\n",
       "<style scoped>\n",
       "    .dataframe tbody tr th:only-of-type {\n",
       "        vertical-align: middle;\n",
       "    }\n",
       "\n",
       "    .dataframe tbody tr th {\n",
       "        vertical-align: top;\n",
       "    }\n",
       "\n",
       "    .dataframe thead th {\n",
       "        text-align: right;\n",
       "    }\n",
       "</style>\n",
       "<table border=\"1\" class=\"dataframe\">\n",
       "  <thead>\n",
       "    <tr style=\"text-align: right;\">\n",
       "      <th></th>\n",
       "      <th>Date</th>\n",
       "      <th>Title</th>\n",
       "    </tr>\n",
       "  </thead>\n",
       "  <tbody>\n",
       "    <tr>\n",
       "      <th>0</th>\n",
       "      <td>20210101</td>\n",
       "      <td>서학개미 사로잡은 美 ESG ETF  올해도 高高할까</td>\n",
       "    </tr>\n",
       "    <tr>\n",
       "      <th>1</th>\n",
       "      <td>20210101</td>\n",
       "      <td>목표가 속속 100만원대  흥 오른 삼성바이오로직스</td>\n",
       "    </tr>\n",
       "    <tr>\n",
       "      <th>2</th>\n",
       "      <td>20210101</td>\n",
       "      <td>신생 PEF운용사  안타  떡볶이업체 SJ코레 사들여 1년만에 매각 80억 차익</td>\n",
       "    </tr>\n",
       "    <tr>\n",
       "      <th>3</th>\n",
       "      <td>20210101</td>\n",
       "      <td>삼성전자 신고가 랠리  9만전자  가능할까</td>\n",
       "    </tr>\n",
       "    <tr>\n",
       "      <th>4</th>\n",
       "      <td>20210101</td>\n",
       "      <td>작년 매출 신기록 쓴 카카오 엔씨  올해 더 좋다</td>\n",
       "    </tr>\n",
       "  </tbody>\n",
       "</table>\n",
       "</div>"
      ],
      "text/plain": [
       "       Date                                         Title\n",
       "0  20210101                 서학개미 사로잡은 美 ESG ETF  올해도 高高할까\n",
       "1  20210101                  목표가 속속 100만원대  흥 오른 삼성바이오로직스\n",
       "2  20210101  신생 PEF운용사  안타  떡볶이업체 SJ코레 사들여 1년만에 매각 80억 차익\n",
       "3  20210101                       삼성전자 신고가 랠리  9만전자  가능할까\n",
       "4  20210101                  작년 매출 신기록 쓴 카카오 엔씨  올해 더 좋다 "
      ]
     },
     "execution_count": 22,
     "metadata": {},
     "output_type": "execute_result"
    }
   ],
   "source": [
    "news_df = pd.concat([naver_news, daum_news, talks\n",
    "#                     ,youtube\n",
    "                    ], ignore_index=True)\n",
    "news_df.head()"
   ]
  },
  {
   "cell_type": "markdown",
   "id": "06a6f9d3",
   "metadata": {},
   "source": [
    "## 주가 데이터"
   ]
  },
  {
   "cell_type": "code",
   "execution_count": 10,
   "id": "08f23aad",
   "metadata": {
    "ExecuteTime": {
     "end_time": "2022-07-04T23:53:57.762138Z",
     "start_time": "2022-07-04T23:53:57.747202Z"
    }
   },
   "outputs": [
    {
     "name": "stdout",
     "output_type": "stream",
     "text": [
      "20210101\n",
      "20220630\n"
     ]
    }
   ],
   "source": [
    "start = str(news_df.iloc[0, 0])\n",
    "end = str(news_df.iloc[-1, 0])\n",
    "print(start)\n",
    "print(end)"
   ]
  },
  {
   "cell_type": "markdown",
   "id": "c76d8783",
   "metadata": {},
   "source": [
    "### KRX에서 받은 csv로 가져오기"
   ]
  },
  {
   "cell_type": "code",
   "execution_count": 11,
   "id": "80bf2941",
   "metadata": {
    "ExecuteTime": {
     "end_time": "2022-07-04T23:54:00.384898Z",
     "start_time": "2022-07-04T23:54:00.348062Z"
    },
    "scrolled": false
   },
   "outputs": [
    {
     "data": {
      "text/html": [
       "<div>\n",
       "<style scoped>\n",
       "    .dataframe tbody tr th:only-of-type {\n",
       "        vertical-align: middle;\n",
       "    }\n",
       "\n",
       "    .dataframe tbody tr th {\n",
       "        vertical-align: top;\n",
       "    }\n",
       "\n",
       "    .dataframe thead th {\n",
       "        text-align: right;\n",
       "    }\n",
       "</style>\n",
       "<table border=\"1\" class=\"dataframe\">\n",
       "  <thead>\n",
       "    <tr style=\"text-align: right;\">\n",
       "      <th></th>\n",
       "      <th>일자</th>\n",
       "      <th>종가</th>\n",
       "      <th>대비</th>\n",
       "      <th>등락률</th>\n",
       "      <th>시가</th>\n",
       "      <th>고가</th>\n",
       "      <th>저가</th>\n",
       "      <th>거래량</th>\n",
       "      <th>거래대금</th>\n",
       "      <th>시가총액</th>\n",
       "      <th>상장주식수</th>\n",
       "    </tr>\n",
       "  </thead>\n",
       "  <tbody>\n",
       "    <tr>\n",
       "      <th>0</th>\n",
       "      <td>2022/06/30</td>\n",
       "      <td>532000</td>\n",
       "      <td>-38000</td>\n",
       "      <td>-6.67</td>\n",
       "      <td>564000</td>\n",
       "      <td>569000</td>\n",
       "      <td>532000</td>\n",
       "      <td>460818</td>\n",
       "      <td>248496695000</td>\n",
       "      <td>36582729960000</td>\n",
       "      <td>68764530</td>\n",
       "    </tr>\n",
       "    <tr>\n",
       "      <th>1</th>\n",
       "      <td>2022/06/29</td>\n",
       "      <td>570000</td>\n",
       "      <td>-11000</td>\n",
       "      <td>-1.89</td>\n",
       "      <td>571000</td>\n",
       "      <td>579000</td>\n",
       "      <td>569000</td>\n",
       "      <td>172702</td>\n",
       "      <td>98937812000</td>\n",
       "      <td>39195782100000</td>\n",
       "      <td>68764530</td>\n",
       "    </tr>\n",
       "    <tr>\n",
       "      <th>2</th>\n",
       "      <td>2022/06/28</td>\n",
       "      <td>581000</td>\n",
       "      <td>12000</td>\n",
       "      <td>2.11</td>\n",
       "      <td>568000</td>\n",
       "      <td>581000</td>\n",
       "      <td>565000</td>\n",
       "      <td>235259</td>\n",
       "      <td>135033955000</td>\n",
       "      <td>39952191930000</td>\n",
       "      <td>68764530</td>\n",
       "    </tr>\n",
       "    <tr>\n",
       "      <th>3</th>\n",
       "      <td>2022/06/27</td>\n",
       "      <td>569000</td>\n",
       "      <td>19000</td>\n",
       "      <td>3.45</td>\n",
       "      <td>563000</td>\n",
       "      <td>577000</td>\n",
       "      <td>561000</td>\n",
       "      <td>257213</td>\n",
       "      <td>146301753000</td>\n",
       "      <td>39127017570000</td>\n",
       "      <td>68764530</td>\n",
       "    </tr>\n",
       "    <tr>\n",
       "      <th>4</th>\n",
       "      <td>2022/06/24</td>\n",
       "      <td>550000</td>\n",
       "      <td>17000</td>\n",
       "      <td>3.19</td>\n",
       "      <td>534000</td>\n",
       "      <td>552000</td>\n",
       "      <td>527000</td>\n",
       "      <td>267270</td>\n",
       "      <td>144074447000</td>\n",
       "      <td>37820491500000</td>\n",
       "      <td>68764530</td>\n",
       "    </tr>\n",
       "  </tbody>\n",
       "</table>\n",
       "</div>"
      ],
      "text/plain": [
       "           일자      종가     대비   등락률      시가      고가      저가     거래량  \\\n",
       "0  2022/06/30  532000 -38000 -6.67  564000  569000  532000  460818   \n",
       "1  2022/06/29  570000 -11000 -1.89  571000  579000  569000  172702   \n",
       "2  2022/06/28  581000  12000  2.11  568000  581000  565000  235259   \n",
       "3  2022/06/27  569000  19000  3.45  563000  577000  561000  257213   \n",
       "4  2022/06/24  550000  17000  3.19  534000  552000  527000  267270   \n",
       "\n",
       "           거래대금            시가총액     상장주식수  \n",
       "0  248496695000  36582729960000  68764530  \n",
       "1   98937812000  39195782100000  68764530  \n",
       "2  135033955000  39952191930000  68764530  \n",
       "3  146301753000  39127017570000  68764530  \n",
       "4  144074447000  37820491500000  68764530  "
      ]
     },
     "execution_count": 11,
     "metadata": {},
     "output_type": "execute_result"
    }
   ],
   "source": [
    "stock_df = pd.read_csv(f'./data/{stock_name}_주가_데이터.csv', index_col=0)\n",
    "stock_df.head()"
   ]
  },
  {
   "cell_type": "code",
   "execution_count": 12,
   "id": "26a9a109",
   "metadata": {
    "ExecuteTime": {
     "end_time": "2022-07-04T23:54:08.786518Z",
     "start_time": "2022-07-04T23:54:01.592450Z"
    }
   },
   "outputs": [
    {
     "name": "stderr",
     "output_type": "stream",
     "text": [
      "100%|████████████████████████████████████████████████████████████████████████████████| 369/369 [00:07<00:00, 51.40it/s]\n"
     ]
    }
   ],
   "source": [
    "for i in tqdm(range(len(stock_df))):\n",
    "    stock_df['일자'][i] = stock_df['일자'][i].replace('/', '')"
   ]
  },
  {
   "cell_type": "code",
   "execution_count": 13,
   "id": "d281fa9a",
   "metadata": {
    "ExecuteTime": {
     "end_time": "2022-07-04T23:54:15.818157Z",
     "start_time": "2022-07-04T23:54:09.381322Z"
    },
    "scrolled": true
   },
   "outputs": [
    {
     "name": "stderr",
     "output_type": "stream",
     "text": [
      "100%|████████████████████████████████████████████████████████████████████████████████| 369/369 [00:06<00:00, 57.63it/s]\n"
     ]
    },
    {
     "data": {
      "text/html": [
       "<div>\n",
       "<style scoped>\n",
       "    .dataframe tbody tr th:only-of-type {\n",
       "        vertical-align: middle;\n",
       "    }\n",
       "\n",
       "    .dataframe tbody tr th {\n",
       "        vertical-align: top;\n",
       "    }\n",
       "\n",
       "    .dataframe thead th {\n",
       "        text-align: right;\n",
       "    }\n",
       "</style>\n",
       "<table border=\"1\" class=\"dataframe\">\n",
       "  <thead>\n",
       "    <tr style=\"text-align: right;\">\n",
       "      <th></th>\n",
       "      <th>종가</th>\n",
       "      <th>대비</th>\n",
       "      <th>등락률</th>\n",
       "      <th>시가</th>\n",
       "      <th>고가</th>\n",
       "      <th>저가</th>\n",
       "      <th>거래량</th>\n",
       "      <th>거래대금</th>\n",
       "      <th>시가총액</th>\n",
       "      <th>상장주식수</th>\n",
       "    </tr>\n",
       "    <tr>\n",
       "      <th>일자</th>\n",
       "      <th></th>\n",
       "      <th></th>\n",
       "      <th></th>\n",
       "      <th></th>\n",
       "      <th></th>\n",
       "      <th></th>\n",
       "      <th></th>\n",
       "      <th></th>\n",
       "      <th></th>\n",
       "      <th></th>\n",
       "    </tr>\n",
       "  </thead>\n",
       "  <tbody>\n",
       "    <tr>\n",
       "      <th>2022-06-30</th>\n",
       "      <td>532000</td>\n",
       "      <td>-38000</td>\n",
       "      <td>-6.67</td>\n",
       "      <td>564000</td>\n",
       "      <td>569000</td>\n",
       "      <td>532000</td>\n",
       "      <td>460818</td>\n",
       "      <td>248496695000</td>\n",
       "      <td>36582729960000</td>\n",
       "      <td>68764530</td>\n",
       "    </tr>\n",
       "    <tr>\n",
       "      <th>2022-06-29</th>\n",
       "      <td>570000</td>\n",
       "      <td>-11000</td>\n",
       "      <td>-1.89</td>\n",
       "      <td>571000</td>\n",
       "      <td>579000</td>\n",
       "      <td>569000</td>\n",
       "      <td>172702</td>\n",
       "      <td>98937812000</td>\n",
       "      <td>39195782100000</td>\n",
       "      <td>68764530</td>\n",
       "    </tr>\n",
       "    <tr>\n",
       "      <th>2022-06-28</th>\n",
       "      <td>581000</td>\n",
       "      <td>12000</td>\n",
       "      <td>2.11</td>\n",
       "      <td>568000</td>\n",
       "      <td>581000</td>\n",
       "      <td>565000</td>\n",
       "      <td>235259</td>\n",
       "      <td>135033955000</td>\n",
       "      <td>39952191930000</td>\n",
       "      <td>68764530</td>\n",
       "    </tr>\n",
       "    <tr>\n",
       "      <th>2022-06-27</th>\n",
       "      <td>569000</td>\n",
       "      <td>19000</td>\n",
       "      <td>3.45</td>\n",
       "      <td>563000</td>\n",
       "      <td>577000</td>\n",
       "      <td>561000</td>\n",
       "      <td>257213</td>\n",
       "      <td>146301753000</td>\n",
       "      <td>39127017570000</td>\n",
       "      <td>68764530</td>\n",
       "    </tr>\n",
       "    <tr>\n",
       "      <th>2022-06-24</th>\n",
       "      <td>550000</td>\n",
       "      <td>17000</td>\n",
       "      <td>3.19</td>\n",
       "      <td>534000</td>\n",
       "      <td>552000</td>\n",
       "      <td>527000</td>\n",
       "      <td>267270</td>\n",
       "      <td>144074447000</td>\n",
       "      <td>37820491500000</td>\n",
       "      <td>68764530</td>\n",
       "    </tr>\n",
       "  </tbody>\n",
       "</table>\n",
       "</div>"
      ],
      "text/plain": [
       "                종가     대비   등락률      시가      고가      저가     거래량          거래대금  \\\n",
       "일자                                                                              \n",
       "2022-06-30  532000 -38000 -6.67  564000  569000  532000  460818  248496695000   \n",
       "2022-06-29  570000 -11000 -1.89  571000  579000  569000  172702   98937812000   \n",
       "2022-06-28  581000  12000  2.11  568000  581000  565000  235259  135033955000   \n",
       "2022-06-27  569000  19000  3.45  563000  577000  561000  257213  146301753000   \n",
       "2022-06-24  550000  17000  3.19  534000  552000  527000  267270  144074447000   \n",
       "\n",
       "                      시가총액     상장주식수  \n",
       "일자                                    \n",
       "2022-06-30  36582729960000  68764530  \n",
       "2022-06-29  39195782100000  68764530  \n",
       "2022-06-28  39952191930000  68764530  \n",
       "2022-06-27  39127017570000  68764530  \n",
       "2022-06-24  37820491500000  68764530  "
      ]
     },
     "execution_count": 13,
     "metadata": {},
     "output_type": "execute_result"
    }
   ],
   "source": [
    "fin_stock_df = stock_df.copy()\n",
    "for i in tqdm(range(len(fin_stock_df))):\n",
    "    fin_stock_df.일자[i] = datetime.strptime(str(fin_stock_df.일자[i]), '%Y%m%d')   \n",
    "fin_stock_df.set_index(['일자'], inplace = True)\n",
    "fin_stock_df.head()"
   ]
  },
  {
   "cell_type": "markdown",
   "id": "1991773f",
   "metadata": {},
   "source": [
    "## NLP처리"
   ]
  },
  {
   "cell_type": "markdown",
   "id": "2af59afd",
   "metadata": {},
   "source": [
    "### 감성지수 계산"
   ]
  },
  {
   "cell_type": "code",
   "execution_count": 29,
   "id": "c4173273",
   "metadata": {
    "ExecuteTime": {
     "end_time": "2022-07-04T23:59:58.563240Z",
     "start_time": "2022-07-04T23:59:51.395075Z"
    }
   },
   "outputs": [
    {
     "name": "stderr",
     "output_type": "stream",
     "text": [
      "100%|████████████████████████████████████████████████████████████████████████████████| 369/369 [00:07<00:00, 51.65it/s]\n"
     ]
    },
    {
     "data": {
      "text/html": [
       "<div>\n",
       "<style scoped>\n",
       "    .dataframe tbody tr th:only-of-type {\n",
       "        vertical-align: middle;\n",
       "    }\n",
       "\n",
       "    .dataframe tbody tr th {\n",
       "        vertical-align: top;\n",
       "    }\n",
       "\n",
       "    .dataframe thead th {\n",
       "        text-align: right;\n",
       "    }\n",
       "</style>\n",
       "<table border=\"1\" class=\"dataframe\">\n",
       "  <thead>\n",
       "    <tr style=\"text-align: right;\">\n",
       "      <th></th>\n",
       "      <th>종가</th>\n",
       "      <th>대비</th>\n",
       "      <th>등락률</th>\n",
       "      <th>시가</th>\n",
       "      <th>고가</th>\n",
       "      <th>저가</th>\n",
       "      <th>거래량</th>\n",
       "      <th>거래대금</th>\n",
       "      <th>시가총액</th>\n",
       "      <th>상장주식수</th>\n",
       "      <th>감성지수</th>\n",
       "    </tr>\n",
       "    <tr>\n",
       "      <th>일자</th>\n",
       "      <th></th>\n",
       "      <th></th>\n",
       "      <th></th>\n",
       "      <th></th>\n",
       "      <th></th>\n",
       "      <th></th>\n",
       "      <th></th>\n",
       "      <th></th>\n",
       "      <th></th>\n",
       "      <th></th>\n",
       "      <th></th>\n",
       "    </tr>\n",
       "  </thead>\n",
       "  <tbody>\n",
       "    <tr>\n",
       "      <th>2022-06-30</th>\n",
       "      <td>532000</td>\n",
       "      <td>-38000</td>\n",
       "      <td>-6.67</td>\n",
       "      <td>564000</td>\n",
       "      <td>569000</td>\n",
       "      <td>532000</td>\n",
       "      <td>460818</td>\n",
       "      <td>248496695000</td>\n",
       "      <td>36582729960000</td>\n",
       "      <td>68764530</td>\n",
       "      <td>0</td>\n",
       "    </tr>\n",
       "    <tr>\n",
       "      <th>2022-06-29</th>\n",
       "      <td>570000</td>\n",
       "      <td>-11000</td>\n",
       "      <td>-1.89</td>\n",
       "      <td>571000</td>\n",
       "      <td>579000</td>\n",
       "      <td>569000</td>\n",
       "      <td>172702</td>\n",
       "      <td>98937812000</td>\n",
       "      <td>39195782100000</td>\n",
       "      <td>68764530</td>\n",
       "      <td>0</td>\n",
       "    </tr>\n",
       "    <tr>\n",
       "      <th>2022-06-28</th>\n",
       "      <td>581000</td>\n",
       "      <td>12000</td>\n",
       "      <td>2.11</td>\n",
       "      <td>568000</td>\n",
       "      <td>581000</td>\n",
       "      <td>565000</td>\n",
       "      <td>235259</td>\n",
       "      <td>135033955000</td>\n",
       "      <td>39952191930000</td>\n",
       "      <td>68764530</td>\n",
       "      <td>1</td>\n",
       "    </tr>\n",
       "    <tr>\n",
       "      <th>2022-06-27</th>\n",
       "      <td>569000</td>\n",
       "      <td>19000</td>\n",
       "      <td>3.45</td>\n",
       "      <td>563000</td>\n",
       "      <td>577000</td>\n",
       "      <td>561000</td>\n",
       "      <td>257213</td>\n",
       "      <td>146301753000</td>\n",
       "      <td>39127017570000</td>\n",
       "      <td>68764530</td>\n",
       "      <td>1</td>\n",
       "    </tr>\n",
       "    <tr>\n",
       "      <th>2022-06-24</th>\n",
       "      <td>550000</td>\n",
       "      <td>17000</td>\n",
       "      <td>3.19</td>\n",
       "      <td>534000</td>\n",
       "      <td>552000</td>\n",
       "      <td>527000</td>\n",
       "      <td>267270</td>\n",
       "      <td>144074447000</td>\n",
       "      <td>37820491500000</td>\n",
       "      <td>68764530</td>\n",
       "      <td>1</td>\n",
       "    </tr>\n",
       "  </tbody>\n",
       "</table>\n",
       "</div>"
      ],
      "text/plain": [
       "                종가     대비   등락률      시가      고가      저가     거래량          거래대금  \\\n",
       "일자                                                                              \n",
       "2022-06-30  532000 -38000 -6.67  564000  569000  532000  460818  248496695000   \n",
       "2022-06-29  570000 -11000 -1.89  571000  579000  569000  172702   98937812000   \n",
       "2022-06-28  581000  12000  2.11  568000  581000  565000  235259  135033955000   \n",
       "2022-06-27  569000  19000  3.45  563000  577000  561000  257213  146301753000   \n",
       "2022-06-24  550000  17000  3.19  534000  552000  527000  267270  144074447000   \n",
       "\n",
       "                      시가총액     상장주식수  감성지수  \n",
       "일자                                          \n",
       "2022-06-30  36582729960000  68764530     0  \n",
       "2022-06-29  39195782100000  68764530     0  \n",
       "2022-06-28  39952191930000  68764530     1  \n",
       "2022-06-27  39127017570000  68764530     1  \n",
       "2022-06-24  37820491500000  68764530     1  "
      ]
     },
     "execution_count": 29,
     "metadata": {},
     "output_type": "execute_result"
    }
   ],
   "source": [
    "fin_stock_df['감성지수'] = 0\n",
    "for i in tqdm(range(len(fin_stock_df))):\n",
    "    if fin_stock_df['등락률'][i] > 0:\n",
    "        fin_stock_df['감성지수'][i] = 1\n",
    "    else:\n",
    "        fin_stock_df['감성지수'][i] = 0\n",
    "fin_stock_df.head()"
   ]
  },
  {
   "cell_type": "markdown",
   "id": "b6b864a4",
   "metadata": {},
   "source": [
    "### news_df 날짜 하루빠르게 변환"
   ]
  },
  {
   "cell_type": "code",
   "execution_count": 30,
   "id": "18cde3de",
   "metadata": {
    "ExecuteTime": {
     "end_time": "2022-07-05T00:00:18.784891Z",
     "start_time": "2022-07-05T00:00:02.343207Z"
    },
    "scrolled": true
   },
   "outputs": [
    {
     "name": "stderr",
     "output_type": "stream",
     "text": [
      "100%|███████████████████████████████████████████████████████████████████████| 283219/283219 [00:16<00:00, 17247.77it/s]\n"
     ]
    },
    {
     "data": {
      "text/html": [
       "<div>\n",
       "<style scoped>\n",
       "    .dataframe tbody tr th:only-of-type {\n",
       "        vertical-align: middle;\n",
       "    }\n",
       "\n",
       "    .dataframe tbody tr th {\n",
       "        vertical-align: top;\n",
       "    }\n",
       "\n",
       "    .dataframe thead th {\n",
       "        text-align: right;\n",
       "    }\n",
       "</style>\n",
       "<table border=\"1\" class=\"dataframe\">\n",
       "  <thead>\n",
       "    <tr style=\"text-align: right;\">\n",
       "      <th></th>\n",
       "      <th>Date</th>\n",
       "      <th>Title</th>\n",
       "    </tr>\n",
       "  </thead>\n",
       "  <tbody>\n",
       "    <tr>\n",
       "      <th>0</th>\n",
       "      <td>2021-01-01 00:00:00</td>\n",
       "      <td>축포 터트린 코스피  새해도 랠리 이어갈까  주간전망</td>\n",
       "    </tr>\n",
       "    <tr>\n",
       "      <th>1</th>\n",
       "      <td>2021-01-01 00:00:00</td>\n",
       "      <td>개미가 이끈 코스피  역대 첫 GDP 넘어</td>\n",
       "    </tr>\n",
       "    <tr>\n",
       "      <th>2</th>\n",
       "      <td>2021-01-01 00:00:00</td>\n",
       "      <td>터키  물가 상승 억제 의지 확인에도    투자 아직 일러</td>\n",
       "    </tr>\n",
       "    <tr>\n",
       "      <th>3</th>\n",
       "      <td>2021-01-01 00:00:00</td>\n",
       "      <td>지난해 주식 수익률 30  안팎  달러는  마이너스</td>\n",
       "    </tr>\n",
       "    <tr>\n",
       "      <th>4</th>\n",
       "      <td>2021-01-01 00:00:00</td>\n",
       "      <td>표  외국환율고시표  12월 30일</td>\n",
       "    </tr>\n",
       "  </tbody>\n",
       "</table>\n",
       "</div>"
      ],
      "text/plain": [
       "                  Date                              Title\n",
       "0  2021-01-01 00:00:00     축포 터트린 코스피  새해도 랠리 이어갈까  주간전망 \n",
       "1  2021-01-01 00:00:00            개미가 이끈 코스피  역대 첫 GDP 넘어\n",
       "2  2021-01-01 00:00:00  터키  물가 상승 억제 의지 확인에도    투자 아직 일러 \n",
       "3  2021-01-01 00:00:00      지난해 주식 수익률 30  안팎  달러는  마이너스 \n",
       "4  2021-01-01 00:00:00               표  외국환율고시표  12월 30일 "
      ]
     },
     "execution_count": 30,
     "metadata": {},
     "output_type": "execute_result"
    }
   ],
   "source": [
    "fin_news_df = news_df.copy()\n",
    "for i in tqdm(range(len(news_df))):\n",
    "    fin_news_df.Date[i] = datetime.strptime(str(news_df.Date[i]), '%Y%m%d')    \n",
    "fin_news_df.head()"
   ]
  },
  {
   "cell_type": "code",
   "execution_count": 31,
   "id": "d1eeed02",
   "metadata": {
    "ExecuteTime": {
     "end_time": "2022-07-05T00:00:38.249881Z",
     "start_time": "2022-07-05T00:00:37.751702Z"
    },
    "scrolled": true
   },
   "outputs": [
    {
     "data": {
      "text/html": [
       "<div>\n",
       "<style scoped>\n",
       "    .dataframe tbody tr th:only-of-type {\n",
       "        vertical-align: middle;\n",
       "    }\n",
       "\n",
       "    .dataframe tbody tr th {\n",
       "        vertical-align: top;\n",
       "    }\n",
       "\n",
       "    .dataframe thead th {\n",
       "        text-align: right;\n",
       "    }\n",
       "</style>\n",
       "<table border=\"1\" class=\"dataframe\">\n",
       "  <thead>\n",
       "    <tr style=\"text-align: right;\">\n",
       "      <th></th>\n",
       "      <th>Date</th>\n",
       "      <th>Title</th>\n",
       "      <th>일자</th>\n",
       "    </tr>\n",
       "  </thead>\n",
       "  <tbody>\n",
       "    <tr>\n",
       "      <th>0</th>\n",
       "      <td>2021-01-01 00:00:00</td>\n",
       "      <td>축포 터트린 코스피  새해도 랠리 이어갈까  주간전망</td>\n",
       "      <td>2020-12-31</td>\n",
       "    </tr>\n",
       "    <tr>\n",
       "      <th>1</th>\n",
       "      <td>2021-01-01 00:00:00</td>\n",
       "      <td>개미가 이끈 코스피  역대 첫 GDP 넘어</td>\n",
       "      <td>2020-12-31</td>\n",
       "    </tr>\n",
       "    <tr>\n",
       "      <th>2</th>\n",
       "      <td>2021-01-01 00:00:00</td>\n",
       "      <td>터키  물가 상승 억제 의지 확인에도    투자 아직 일러</td>\n",
       "      <td>2020-12-31</td>\n",
       "    </tr>\n",
       "    <tr>\n",
       "      <th>3</th>\n",
       "      <td>2021-01-01 00:00:00</td>\n",
       "      <td>지난해 주식 수익률 30  안팎  달러는  마이너스</td>\n",
       "      <td>2020-12-31</td>\n",
       "    </tr>\n",
       "    <tr>\n",
       "      <th>4</th>\n",
       "      <td>2021-01-01 00:00:00</td>\n",
       "      <td>표  외국환율고시표  12월 30일</td>\n",
       "      <td>2020-12-31</td>\n",
       "    </tr>\n",
       "    <tr>\n",
       "      <th>...</th>\n",
       "      <td>...</td>\n",
       "      <td>...</td>\n",
       "      <td>...</td>\n",
       "    </tr>\n",
       "    <tr>\n",
       "      <th>283214</th>\n",
       "      <td>2022-06-30 00:00:00</td>\n",
       "      <td>주식 매매 상위 종목 및 환율  2022년 6월 29일자</td>\n",
       "      <td>2022-06-29</td>\n",
       "    </tr>\n",
       "    <tr>\n",
       "      <th>283215</th>\n",
       "      <td>2022-06-30 00:00:00</td>\n",
       "      <td>유럽증시  경기침체 공포 커지면서 하락</td>\n",
       "      <td>2022-06-29</td>\n",
       "    </tr>\n",
       "    <tr>\n",
       "      <th>283216</th>\n",
       "      <td>2022-06-30 00:00:00</td>\n",
       "      <td>하반기 애플 신제품 대거 출시  애플 부품주  반등  시도</td>\n",
       "      <td>2022-06-29</td>\n",
       "    </tr>\n",
       "    <tr>\n",
       "      <th>283217</th>\n",
       "      <td>2022-06-30 00:00:00</td>\n",
       "      <td>저축은행중앙회  이체 시 저축은행 이름 표시 추진</td>\n",
       "      <td>2022-06-29</td>\n",
       "    </tr>\n",
       "    <tr>\n",
       "      <th>283218</th>\n",
       "      <td>2022-06-30 00:00:00</td>\n",
       "      <td>상반기 펀드 성적  씁쓸   대체 원자재만 웃었다</td>\n",
       "      <td>2022-06-29</td>\n",
       "    </tr>\n",
       "  </tbody>\n",
       "</table>\n",
       "<p>283219 rows × 3 columns</p>\n",
       "</div>"
      ],
      "text/plain": [
       "                       Date                              Title         일자\n",
       "0       2021-01-01 00:00:00     축포 터트린 코스피  새해도 랠리 이어갈까  주간전망  2020-12-31\n",
       "1       2021-01-01 00:00:00            개미가 이끈 코스피  역대 첫 GDP 넘어 2020-12-31\n",
       "2       2021-01-01 00:00:00  터키  물가 상승 억제 의지 확인에도    투자 아직 일러  2020-12-31\n",
       "3       2021-01-01 00:00:00      지난해 주식 수익률 30  안팎  달러는  마이너스  2020-12-31\n",
       "4       2021-01-01 00:00:00               표  외국환율고시표  12월 30일  2020-12-31\n",
       "...                     ...                                ...        ...\n",
       "283214  2022-06-30 00:00:00    주식 매매 상위 종목 및 환율  2022년 6월 29일자 2022-06-29\n",
       "283215  2022-06-30 00:00:00              유럽증시  경기침체 공포 커지면서 하락 2022-06-29\n",
       "283216  2022-06-30 00:00:00   하반기 애플 신제품 대거 출시  애플 부품주  반등  시도 2022-06-29\n",
       "283217  2022-06-30 00:00:00       저축은행중앙회  이체 시 저축은행 이름 표시 추진  2022-06-29\n",
       "283218  2022-06-30 00:00:00        상반기 펀드 성적  씁쓸   대체 원자재만 웃었다 2022-06-29\n",
       "\n",
       "[283219 rows x 3 columns]"
      ]
     },
     "execution_count": 31,
     "metadata": {},
     "output_type": "execute_result"
    }
   ],
   "source": [
    "fin_news_df['일자'] = fin_news_df['Date'] - timedelta(days=1)\n",
    "fin_news_df"
   ]
  },
  {
   "cell_type": "code",
   "execution_count": 32,
   "id": "18f6f879",
   "metadata": {
    "ExecuteTime": {
     "end_time": "2022-07-05T00:00:41.040447Z",
     "start_time": "2022-07-05T00:00:40.996837Z"
    }
   },
   "outputs": [
    {
     "data": {
      "text/html": [
       "<div>\n",
       "<style scoped>\n",
       "    .dataframe tbody tr th:only-of-type {\n",
       "        vertical-align: middle;\n",
       "    }\n",
       "\n",
       "    .dataframe tbody tr th {\n",
       "        vertical-align: top;\n",
       "    }\n",
       "\n",
       "    .dataframe thead th {\n",
       "        text-align: right;\n",
       "    }\n",
       "</style>\n",
       "<table border=\"1\" class=\"dataframe\">\n",
       "  <thead>\n",
       "    <tr style=\"text-align: right;\">\n",
       "      <th></th>\n",
       "      <th>기사제목</th>\n",
       "    </tr>\n",
       "    <tr>\n",
       "      <th>일자</th>\n",
       "      <th></th>\n",
       "    </tr>\n",
       "  </thead>\n",
       "  <tbody>\n",
       "    <tr>\n",
       "      <th>2020-12-31</th>\n",
       "      <td>축포 터트린 코스피  새해도 랠리 이어갈까  주간전망</td>\n",
       "    </tr>\n",
       "    <tr>\n",
       "      <th>2020-12-31</th>\n",
       "      <td>개미가 이끈 코스피  역대 첫 GDP 넘어</td>\n",
       "    </tr>\n",
       "    <tr>\n",
       "      <th>2020-12-31</th>\n",
       "      <td>터키  물가 상승 억제 의지 확인에도    투자 아직 일러</td>\n",
       "    </tr>\n",
       "    <tr>\n",
       "      <th>2020-12-31</th>\n",
       "      <td>지난해 주식 수익률 30  안팎  달러는  마이너스</td>\n",
       "    </tr>\n",
       "    <tr>\n",
       "      <th>2020-12-31</th>\n",
       "      <td>표  외국환율고시표  12월 30일</td>\n",
       "    </tr>\n",
       "    <tr>\n",
       "      <th>...</th>\n",
       "      <td>...</td>\n",
       "    </tr>\n",
       "    <tr>\n",
       "      <th>2022-06-29</th>\n",
       "      <td>주식 매매 상위 종목 및 환율  2022년 6월 29일자</td>\n",
       "    </tr>\n",
       "    <tr>\n",
       "      <th>2022-06-29</th>\n",
       "      <td>유럽증시  경기침체 공포 커지면서 하락</td>\n",
       "    </tr>\n",
       "    <tr>\n",
       "      <th>2022-06-29</th>\n",
       "      <td>하반기 애플 신제품 대거 출시  애플 부품주  반등  시도</td>\n",
       "    </tr>\n",
       "    <tr>\n",
       "      <th>2022-06-29</th>\n",
       "      <td>저축은행중앙회  이체 시 저축은행 이름 표시 추진</td>\n",
       "    </tr>\n",
       "    <tr>\n",
       "      <th>2022-06-29</th>\n",
       "      <td>상반기 펀드 성적  씁쓸   대체 원자재만 웃었다</td>\n",
       "    </tr>\n",
       "  </tbody>\n",
       "</table>\n",
       "<p>283219 rows × 1 columns</p>\n",
       "</div>"
      ],
      "text/plain": [
       "                                         기사제목\n",
       "일자                                           \n",
       "2020-12-31     축포 터트린 코스피  새해도 랠리 이어갈까  주간전망 \n",
       "2020-12-31            개미가 이끈 코스피  역대 첫 GDP 넘어\n",
       "2020-12-31  터키  물가 상승 억제 의지 확인에도    투자 아직 일러 \n",
       "2020-12-31      지난해 주식 수익률 30  안팎  달러는  마이너스 \n",
       "2020-12-31               표  외국환율고시표  12월 30일 \n",
       "...                                       ...\n",
       "2022-06-29    주식 매매 상위 종목 및 환율  2022년 6월 29일자\n",
       "2022-06-29              유럽증시  경기침체 공포 커지면서 하락\n",
       "2022-06-29   하반기 애플 신제품 대거 출시  애플 부품주  반등  시도\n",
       "2022-06-29       저축은행중앙회  이체 시 저축은행 이름 표시 추진 \n",
       "2022-06-29        상반기 펀드 성적  씁쓸   대체 원자재만 웃었다\n",
       "\n",
       "[283219 rows x 1 columns]"
      ]
     },
     "execution_count": 32,
     "metadata": {},
     "output_type": "execute_result"
    }
   ],
   "source": [
    "fin_news_df.columns = ['Date', '제목', '일자']\n",
    "fin_news_df.set_index(['일자'], inplace = True)\n",
    "fin_news_df.drop(['Date'], axis=1, inplace =True)\n",
    "fin_news_df"
   ]
  },
  {
   "cell_type": "markdown",
   "id": "009ea482",
   "metadata": {},
   "source": [
    "### news_df와 stock_df 합치기"
   ]
  },
  {
   "cell_type": "code",
   "execution_count": 33,
   "id": "6b8762ef",
   "metadata": {
    "ExecuteTime": {
     "end_time": "2022-07-05T00:00:49.920861Z",
     "start_time": "2022-07-05T00:00:49.834244Z"
    },
    "scrolled": true
   },
   "outputs": [
    {
     "data": {
      "text/html": [
       "<div>\n",
       "<style scoped>\n",
       "    .dataframe tbody tr th:only-of-type {\n",
       "        vertical-align: middle;\n",
       "    }\n",
       "\n",
       "    .dataframe tbody tr th {\n",
       "        vertical-align: top;\n",
       "    }\n",
       "\n",
       "    .dataframe thead th {\n",
       "        text-align: right;\n",
       "    }\n",
       "</style>\n",
       "<table border=\"1\" class=\"dataframe\">\n",
       "  <thead>\n",
       "    <tr style=\"text-align: right;\">\n",
       "      <th></th>\n",
       "      <th>기사제목</th>\n",
       "      <th>종가</th>\n",
       "      <th>대비</th>\n",
       "      <th>등락률</th>\n",
       "      <th>시가</th>\n",
       "      <th>고가</th>\n",
       "      <th>저가</th>\n",
       "      <th>거래량</th>\n",
       "      <th>거래대금</th>\n",
       "      <th>시가총액</th>\n",
       "      <th>상장주식수</th>\n",
       "      <th>감성지수</th>\n",
       "    </tr>\n",
       "    <tr>\n",
       "      <th>일자</th>\n",
       "      <th></th>\n",
       "      <th></th>\n",
       "      <th></th>\n",
       "      <th></th>\n",
       "      <th></th>\n",
       "      <th></th>\n",
       "      <th></th>\n",
       "      <th></th>\n",
       "      <th></th>\n",
       "      <th></th>\n",
       "      <th></th>\n",
       "      <th></th>\n",
       "    </tr>\n",
       "  </thead>\n",
       "  <tbody>\n",
       "    <tr>\n",
       "      <th>2021-01-04</th>\n",
       "      <td>뉴욕증시 반등 성공  3대 지수 장초반 상승</td>\n",
       "      <td>671000</td>\n",
       "      <td>43000</td>\n",
       "      <td>6.85</td>\n",
       "      <td>660000</td>\n",
       "      <td>682000</td>\n",
       "      <td>640000</td>\n",
       "      <td>694737</td>\n",
       "      <td>460597285668</td>\n",
       "      <td>46140999630000</td>\n",
       "      <td>68764530</td>\n",
       "      <td>1</td>\n",
       "    </tr>\n",
       "    <tr>\n",
       "      <th>2021-01-04</th>\n",
       "      <td>사모펀드 입시비리  정경심 항소심 재판부 배당</td>\n",
       "      <td>671000</td>\n",
       "      <td>43000</td>\n",
       "      <td>6.85</td>\n",
       "      <td>660000</td>\n",
       "      <td>682000</td>\n",
       "      <td>640000</td>\n",
       "      <td>694737</td>\n",
       "      <td>460597285668</td>\n",
       "      <td>46140999630000</td>\n",
       "      <td>68764530</td>\n",
       "      <td>1</td>\n",
       "    </tr>\n",
       "    <tr>\n",
       "      <th>2021-01-04</th>\n",
       "      <td>삼천피  천스닥  시대 눈앞에 왔다</td>\n",
       "      <td>671000</td>\n",
       "      <td>43000</td>\n",
       "      <td>6.85</td>\n",
       "      <td>660000</td>\n",
       "      <td>682000</td>\n",
       "      <td>640000</td>\n",
       "      <td>694737</td>\n",
       "      <td>460597285668</td>\n",
       "      <td>46140999630000</td>\n",
       "      <td>68764530</td>\n",
       "      <td>1</td>\n",
       "    </tr>\n",
       "    <tr>\n",
       "      <th>2021-01-04</th>\n",
       "      <td>개미가 끌어올린 코스피  3 000 턱밑까지 왔다</td>\n",
       "      <td>671000</td>\n",
       "      <td>43000</td>\n",
       "      <td>6.85</td>\n",
       "      <td>660000</td>\n",
       "      <td>682000</td>\n",
       "      <td>640000</td>\n",
       "      <td>694737</td>\n",
       "      <td>460597285668</td>\n",
       "      <td>46140999630000</td>\n",
       "      <td>68764530</td>\n",
       "      <td>1</td>\n",
       "    </tr>\n",
       "    <tr>\n",
       "      <th>2021-01-04</th>\n",
       "      <td>박셀바이오   투자위험종목  지정에 6일 거래정지된다</td>\n",
       "      <td>671000</td>\n",
       "      <td>43000</td>\n",
       "      <td>6.85</td>\n",
       "      <td>660000</td>\n",
       "      <td>682000</td>\n",
       "      <td>640000</td>\n",
       "      <td>694737</td>\n",
       "      <td>460597285668</td>\n",
       "      <td>46140999630000</td>\n",
       "      <td>68764530</td>\n",
       "      <td>1</td>\n",
       "    </tr>\n",
       "    <tr>\n",
       "      <th>...</th>\n",
       "      <td>...</td>\n",
       "      <td>...</td>\n",
       "      <td>...</td>\n",
       "      <td>...</td>\n",
       "      <td>...</td>\n",
       "      <td>...</td>\n",
       "      <td>...</td>\n",
       "      <td>...</td>\n",
       "      <td>...</td>\n",
       "      <td>...</td>\n",
       "      <td>...</td>\n",
       "      <td>...</td>\n",
       "    </tr>\n",
       "    <tr>\n",
       "      <th>2022-06-29</th>\n",
       "      <td>주식 매매 상위 종목 및 환율  2022년 6월 29일자</td>\n",
       "      <td>570000</td>\n",
       "      <td>-11000</td>\n",
       "      <td>-1.89</td>\n",
       "      <td>571000</td>\n",
       "      <td>579000</td>\n",
       "      <td>569000</td>\n",
       "      <td>172702</td>\n",
       "      <td>98937812000</td>\n",
       "      <td>39195782100000</td>\n",
       "      <td>68764530</td>\n",
       "      <td>0</td>\n",
       "    </tr>\n",
       "    <tr>\n",
       "      <th>2022-06-29</th>\n",
       "      <td>유럽증시  경기침체 공포 커지면서 하락</td>\n",
       "      <td>570000</td>\n",
       "      <td>-11000</td>\n",
       "      <td>-1.89</td>\n",
       "      <td>571000</td>\n",
       "      <td>579000</td>\n",
       "      <td>569000</td>\n",
       "      <td>172702</td>\n",
       "      <td>98937812000</td>\n",
       "      <td>39195782100000</td>\n",
       "      <td>68764530</td>\n",
       "      <td>0</td>\n",
       "    </tr>\n",
       "    <tr>\n",
       "      <th>2022-06-29</th>\n",
       "      <td>하반기 애플 신제품 대거 출시  애플 부품주  반등  시도</td>\n",
       "      <td>570000</td>\n",
       "      <td>-11000</td>\n",
       "      <td>-1.89</td>\n",
       "      <td>571000</td>\n",
       "      <td>579000</td>\n",
       "      <td>569000</td>\n",
       "      <td>172702</td>\n",
       "      <td>98937812000</td>\n",
       "      <td>39195782100000</td>\n",
       "      <td>68764530</td>\n",
       "      <td>0</td>\n",
       "    </tr>\n",
       "    <tr>\n",
       "      <th>2022-06-29</th>\n",
       "      <td>저축은행중앙회  이체 시 저축은행 이름 표시 추진</td>\n",
       "      <td>570000</td>\n",
       "      <td>-11000</td>\n",
       "      <td>-1.89</td>\n",
       "      <td>571000</td>\n",
       "      <td>579000</td>\n",
       "      <td>569000</td>\n",
       "      <td>172702</td>\n",
       "      <td>98937812000</td>\n",
       "      <td>39195782100000</td>\n",
       "      <td>68764530</td>\n",
       "      <td>0</td>\n",
       "    </tr>\n",
       "    <tr>\n",
       "      <th>2022-06-29</th>\n",
       "      <td>상반기 펀드 성적  씁쓸   대체 원자재만 웃었다</td>\n",
       "      <td>570000</td>\n",
       "      <td>-11000</td>\n",
       "      <td>-1.89</td>\n",
       "      <td>571000</td>\n",
       "      <td>579000</td>\n",
       "      <td>569000</td>\n",
       "      <td>172702</td>\n",
       "      <td>98937812000</td>\n",
       "      <td>39195782100000</td>\n",
       "      <td>68764530</td>\n",
       "      <td>0</td>\n",
       "    </tr>\n",
       "  </tbody>\n",
       "</table>\n",
       "<p>209983 rows × 12 columns</p>\n",
       "</div>"
      ],
      "text/plain": [
       "                                        기사제목      종가     대비   등락률      시가  \\\n",
       "일자                                                                          \n",
       "2021-01-04          뉴욕증시 반등 성공  3대 지수 장초반 상승  671000  43000  6.85  660000   \n",
       "2021-01-04         사모펀드 입시비리  정경심 항소심 재판부 배당  671000  43000  6.85  660000   \n",
       "2021-01-04               삼천피  천스닥  시대 눈앞에 왔다  671000  43000  6.85  660000   \n",
       "2021-01-04       개미가 끌어올린 코스피  3 000 턱밑까지 왔다  671000  43000  6.85  660000   \n",
       "2021-01-04     박셀바이오   투자위험종목  지정에 6일 거래정지된다  671000  43000  6.85  660000   \n",
       "...                                      ...     ...    ...   ...     ...   \n",
       "2022-06-29   주식 매매 상위 종목 및 환율  2022년 6월 29일자  570000 -11000 -1.89  571000   \n",
       "2022-06-29             유럽증시  경기침체 공포 커지면서 하락  570000 -11000 -1.89  571000   \n",
       "2022-06-29  하반기 애플 신제품 대거 출시  애플 부품주  반등  시도  570000 -11000 -1.89  571000   \n",
       "2022-06-29      저축은행중앙회  이체 시 저축은행 이름 표시 추진   570000 -11000 -1.89  571000   \n",
       "2022-06-29       상반기 펀드 성적  씁쓸   대체 원자재만 웃었다  570000 -11000 -1.89  571000   \n",
       "\n",
       "                고가      저가     거래량          거래대금            시가총액     상장주식수  \\\n",
       "일자                                                                           \n",
       "2021-01-04  682000  640000  694737  460597285668  46140999630000  68764530   \n",
       "2021-01-04  682000  640000  694737  460597285668  46140999630000  68764530   \n",
       "2021-01-04  682000  640000  694737  460597285668  46140999630000  68764530   \n",
       "2021-01-04  682000  640000  694737  460597285668  46140999630000  68764530   \n",
       "2021-01-04  682000  640000  694737  460597285668  46140999630000  68764530   \n",
       "...            ...     ...     ...           ...             ...       ...   \n",
       "2022-06-29  579000  569000  172702   98937812000  39195782100000  68764530   \n",
       "2022-06-29  579000  569000  172702   98937812000  39195782100000  68764530   \n",
       "2022-06-29  579000  569000  172702   98937812000  39195782100000  68764530   \n",
       "2022-06-29  579000  569000  172702   98937812000  39195782100000  68764530   \n",
       "2022-06-29  579000  569000  172702   98937812000  39195782100000  68764530   \n",
       "\n",
       "            감성지수  \n",
       "일자                \n",
       "2021-01-04     1  \n",
       "2021-01-04     1  \n",
       "2021-01-04     1  \n",
       "2021-01-04     1  \n",
       "2021-01-04     1  \n",
       "...          ...  \n",
       "2022-06-29     0  \n",
       "2022-06-29     0  \n",
       "2022-06-29     0  \n",
       "2022-06-29     0  \n",
       "2022-06-29     0  \n",
       "\n",
       "[209983 rows x 12 columns]"
      ]
     },
     "execution_count": 33,
     "metadata": {},
     "output_type": "execute_result"
    }
   ],
   "source": [
    "## 행 개수 같을때\n",
    "df = fin_news_df.join(fin_stock_df, how='inner')\n",
    "df"
   ]
  },
  {
   "cell_type": "code",
   "execution_count": 34,
   "id": "e355465a",
   "metadata": {
    "ExecuteTime": {
     "end_time": "2022-07-05T00:01:00.600585Z",
     "start_time": "2022-07-05T00:00:55.748116Z"
    },
    "scrolled": true
   },
   "outputs": [
    {
     "data": {
      "text/html": [
       "<div>\n",
       "<style scoped>\n",
       "    .dataframe tbody tr th:only-of-type {\n",
       "        vertical-align: middle;\n",
       "    }\n",
       "\n",
       "    .dataframe tbody tr th {\n",
       "        vertical-align: top;\n",
       "    }\n",
       "\n",
       "    .dataframe thead th {\n",
       "        text-align: right;\n",
       "    }\n",
       "</style>\n",
       "<table border=\"1\" class=\"dataframe\">\n",
       "  <thead>\n",
       "    <tr style=\"text-align: right;\">\n",
       "      <th></th>\n",
       "      <th>기사제목</th>\n",
       "      <th>종가</th>\n",
       "      <th>대비</th>\n",
       "      <th>등락률</th>\n",
       "      <th>시가</th>\n",
       "      <th>고가</th>\n",
       "      <th>저가</th>\n",
       "      <th>거래량</th>\n",
       "      <th>거래대금</th>\n",
       "      <th>시가총액</th>\n",
       "      <th>상장주식수</th>\n",
       "      <th>감성지수</th>\n",
       "    </tr>\n",
       "    <tr>\n",
       "      <th>일자</th>\n",
       "      <th></th>\n",
       "      <th></th>\n",
       "      <th></th>\n",
       "      <th></th>\n",
       "      <th></th>\n",
       "      <th></th>\n",
       "      <th></th>\n",
       "      <th></th>\n",
       "      <th></th>\n",
       "      <th></th>\n",
       "      <th></th>\n",
       "      <th></th>\n",
       "    </tr>\n",
       "  </thead>\n",
       "  <tbody>\n",
       "    <tr>\n",
       "      <th>2021-01-04</th>\n",
       "      <td>뉴욕증시 반등 성공  3대 지수 장초반 상승</td>\n",
       "      <td>671000</td>\n",
       "      <td>43000</td>\n",
       "      <td>6.85</td>\n",
       "      <td>660000</td>\n",
       "      <td>682000</td>\n",
       "      <td>640000</td>\n",
       "      <td>694737</td>\n",
       "      <td>460597285668</td>\n",
       "      <td>46140999630000</td>\n",
       "      <td>68764530</td>\n",
       "      <td>1</td>\n",
       "    </tr>\n",
       "    <tr>\n",
       "      <th>2021-01-04</th>\n",
       "      <td>사모펀드 입시비리  정경심 항소심 재판부 배당</td>\n",
       "      <td>671000</td>\n",
       "      <td>43000</td>\n",
       "      <td>6.85</td>\n",
       "      <td>660000</td>\n",
       "      <td>682000</td>\n",
       "      <td>640000</td>\n",
       "      <td>694737</td>\n",
       "      <td>460597285668</td>\n",
       "      <td>46140999630000</td>\n",
       "      <td>68764530</td>\n",
       "      <td>1</td>\n",
       "    </tr>\n",
       "    <tr>\n",
       "      <th>2021-01-04</th>\n",
       "      <td>삼천피  천스닥  시대 눈앞에 왔다</td>\n",
       "      <td>671000</td>\n",
       "      <td>43000</td>\n",
       "      <td>6.85</td>\n",
       "      <td>660000</td>\n",
       "      <td>682000</td>\n",
       "      <td>640000</td>\n",
       "      <td>694737</td>\n",
       "      <td>460597285668</td>\n",
       "      <td>46140999630000</td>\n",
       "      <td>68764530</td>\n",
       "      <td>1</td>\n",
       "    </tr>\n",
       "    <tr>\n",
       "      <th>2021-01-04</th>\n",
       "      <td>개미가 끌어올린 코스피  3 000 턱밑까지 왔다</td>\n",
       "      <td>671000</td>\n",
       "      <td>43000</td>\n",
       "      <td>6.85</td>\n",
       "      <td>660000</td>\n",
       "      <td>682000</td>\n",
       "      <td>640000</td>\n",
       "      <td>694737</td>\n",
       "      <td>460597285668</td>\n",
       "      <td>46140999630000</td>\n",
       "      <td>68764530</td>\n",
       "      <td>1</td>\n",
       "    </tr>\n",
       "    <tr>\n",
       "      <th>2021-01-04</th>\n",
       "      <td>박셀바이오   투자위험종목  지정에 6일 거래정지된다</td>\n",
       "      <td>671000</td>\n",
       "      <td>43000</td>\n",
       "      <td>6.85</td>\n",
       "      <td>660000</td>\n",
       "      <td>682000</td>\n",
       "      <td>640000</td>\n",
       "      <td>694737</td>\n",
       "      <td>460597285668</td>\n",
       "      <td>46140999630000</td>\n",
       "      <td>68764530</td>\n",
       "      <td>1</td>\n",
       "    </tr>\n",
       "  </tbody>\n",
       "</table>\n",
       "</div>"
      ],
      "text/plain": [
       "                                     기사제목      종가     대비   등락률      시가  \\\n",
       "일자                                                                       \n",
       "2021-01-04       뉴욕증시 반등 성공  3대 지수 장초반 상승  671000  43000  6.85  660000   \n",
       "2021-01-04      사모펀드 입시비리  정경심 항소심 재판부 배당  671000  43000  6.85  660000   \n",
       "2021-01-04            삼천피  천스닥  시대 눈앞에 왔다  671000  43000  6.85  660000   \n",
       "2021-01-04    개미가 끌어올린 코스피  3 000 턱밑까지 왔다  671000  43000  6.85  660000   \n",
       "2021-01-04  박셀바이오   투자위험종목  지정에 6일 거래정지된다  671000  43000  6.85  660000   \n",
       "\n",
       "                고가      저가     거래량          거래대금            시가총액     상장주식수  \\\n",
       "일자                                                                           \n",
       "2021-01-04  682000  640000  694737  460597285668  46140999630000  68764530   \n",
       "2021-01-04  682000  640000  694737  460597285668  46140999630000  68764530   \n",
       "2021-01-04  682000  640000  694737  460597285668  46140999630000  68764530   \n",
       "2021-01-04  682000  640000  694737  460597285668  46140999630000  68764530   \n",
       "2021-01-04  682000  640000  694737  460597285668  46140999630000  68764530   \n",
       "\n",
       "            감성지수  \n",
       "일자                \n",
       "2021-01-04     1  \n",
       "2021-01-04     1  \n",
       "2021-01-04     1  \n",
       "2021-01-04     1  \n",
       "2021-01-04     1  "
      ]
     },
     "execution_count": 34,
     "metadata": {},
     "output_type": "execute_result"
    }
   ],
   "source": [
    "df.to_csv('NLP_data_comp_SamsungSDI.csv', encoding = 'utf-8-sig')\n",
    "df.head(3)"
   ]
  },
  {
   "cell_type": "markdown",
   "id": "f6f0b941",
   "metadata": {
    "ExecuteTime": {
     "end_time": "2022-06-28T11:34:21.737009Z",
     "start_time": "2022-06-28T11:34:21.716265Z"
    }
   },
   "source": [
    "### 감성분석 모델 적용"
   ]
  },
  {
   "cell_type": "code",
   "execution_count": 35,
   "id": "65ddaa74",
   "metadata": {
    "ExecuteTime": {
     "end_time": "2022-07-05T00:01:15.679584Z",
     "start_time": "2022-07-05T00:01:14.400214Z"
    },
    "scrolled": true
   },
   "outputs": [
    {
     "data": {
      "text/html": [
       "<div>\n",
       "<style scoped>\n",
       "    .dataframe tbody tr th:only-of-type {\n",
       "        vertical-align: middle;\n",
       "    }\n",
       "\n",
       "    .dataframe tbody tr th {\n",
       "        vertical-align: top;\n",
       "    }\n",
       "\n",
       "    .dataframe thead th {\n",
       "        text-align: right;\n",
       "    }\n",
       "</style>\n",
       "<table border=\"1\" class=\"dataframe\">\n",
       "  <thead>\n",
       "    <tr style=\"text-align: right;\">\n",
       "      <th></th>\n",
       "      <th>기사제목</th>\n",
       "      <th>종가</th>\n",
       "      <th>대비</th>\n",
       "      <th>등락률</th>\n",
       "      <th>시가</th>\n",
       "      <th>고가</th>\n",
       "      <th>저가</th>\n",
       "      <th>거래량</th>\n",
       "      <th>거래대금</th>\n",
       "      <th>시가총액</th>\n",
       "      <th>상장주식수</th>\n",
       "      <th>감성지수</th>\n",
       "    </tr>\n",
       "    <tr>\n",
       "      <th>일자</th>\n",
       "      <th></th>\n",
       "      <th></th>\n",
       "      <th></th>\n",
       "      <th></th>\n",
       "      <th></th>\n",
       "      <th></th>\n",
       "      <th></th>\n",
       "      <th></th>\n",
       "      <th></th>\n",
       "      <th></th>\n",
       "      <th></th>\n",
       "      <th></th>\n",
       "    </tr>\n",
       "  </thead>\n",
       "  <tbody>\n",
       "    <tr>\n",
       "      <th>2021-01-04</th>\n",
       "      <td>뉴욕증시 반등 성공  3대 지수 장초반 상승</td>\n",
       "      <td>671000</td>\n",
       "      <td>43000</td>\n",
       "      <td>6.85</td>\n",
       "      <td>660000</td>\n",
       "      <td>682000</td>\n",
       "      <td>640000</td>\n",
       "      <td>694737</td>\n",
       "      <td>460597285668</td>\n",
       "      <td>46140999630000</td>\n",
       "      <td>68764530</td>\n",
       "      <td>1</td>\n",
       "    </tr>\n",
       "    <tr>\n",
       "      <th>2021-01-04</th>\n",
       "      <td>사모펀드 입시비리  정경심 항소심 재판부 배당</td>\n",
       "      <td>671000</td>\n",
       "      <td>43000</td>\n",
       "      <td>6.85</td>\n",
       "      <td>660000</td>\n",
       "      <td>682000</td>\n",
       "      <td>640000</td>\n",
       "      <td>694737</td>\n",
       "      <td>460597285668</td>\n",
       "      <td>46140999630000</td>\n",
       "      <td>68764530</td>\n",
       "      <td>1</td>\n",
       "    </tr>\n",
       "    <tr>\n",
       "      <th>2021-01-04</th>\n",
       "      <td>삼천피  천스닥  시대 눈앞에 왔다</td>\n",
       "      <td>671000</td>\n",
       "      <td>43000</td>\n",
       "      <td>6.85</td>\n",
       "      <td>660000</td>\n",
       "      <td>682000</td>\n",
       "      <td>640000</td>\n",
       "      <td>694737</td>\n",
       "      <td>460597285668</td>\n",
       "      <td>46140999630000</td>\n",
       "      <td>68764530</td>\n",
       "      <td>1</td>\n",
       "    </tr>\n",
       "    <tr>\n",
       "      <th>2021-01-04</th>\n",
       "      <td>개미가 끌어올린 코스피  3 000 턱밑까지 왔다</td>\n",
       "      <td>671000</td>\n",
       "      <td>43000</td>\n",
       "      <td>6.85</td>\n",
       "      <td>660000</td>\n",
       "      <td>682000</td>\n",
       "      <td>640000</td>\n",
       "      <td>694737</td>\n",
       "      <td>460597285668</td>\n",
       "      <td>46140999630000</td>\n",
       "      <td>68764530</td>\n",
       "      <td>1</td>\n",
       "    </tr>\n",
       "    <tr>\n",
       "      <th>2021-01-04</th>\n",
       "      <td>박셀바이오   투자위험종목  지정에 6일 거래정지된다</td>\n",
       "      <td>671000</td>\n",
       "      <td>43000</td>\n",
       "      <td>6.85</td>\n",
       "      <td>660000</td>\n",
       "      <td>682000</td>\n",
       "      <td>640000</td>\n",
       "      <td>694737</td>\n",
       "      <td>460597285668</td>\n",
       "      <td>46140999630000</td>\n",
       "      <td>68764530</td>\n",
       "      <td>1</td>\n",
       "    </tr>\n",
       "  </tbody>\n",
       "</table>\n",
       "</div>"
      ],
      "text/plain": [
       "                                     기사제목      종가     대비   등락률      시가  \\\n",
       "일자                                                                       \n",
       "2021-01-04       뉴욕증시 반등 성공  3대 지수 장초반 상승  671000  43000  6.85  660000   \n",
       "2021-01-04      사모펀드 입시비리  정경심 항소심 재판부 배당  671000  43000  6.85  660000   \n",
       "2021-01-04            삼천피  천스닥  시대 눈앞에 왔다  671000  43000  6.85  660000   \n",
       "2021-01-04    개미가 끌어올린 코스피  3 000 턱밑까지 왔다  671000  43000  6.85  660000   \n",
       "2021-01-04  박셀바이오   투자위험종목  지정에 6일 거래정지된다  671000  43000  6.85  660000   \n",
       "\n",
       "                고가      저가     거래량          거래대금            시가총액     상장주식수  \\\n",
       "일자                                                                           \n",
       "2021-01-04  682000  640000  694737  460597285668  46140999630000  68764530   \n",
       "2021-01-04  682000  640000  694737  460597285668  46140999630000  68764530   \n",
       "2021-01-04  682000  640000  694737  460597285668  46140999630000  68764530   \n",
       "2021-01-04  682000  640000  694737  460597285668  46140999630000  68764530   \n",
       "2021-01-04  682000  640000  694737  460597285668  46140999630000  68764530   \n",
       "\n",
       "            감성지수  \n",
       "일자                \n",
       "2021-01-04     1  \n",
       "2021-01-04     1  \n",
       "2021-01-04     1  \n",
       "2021-01-04     1  \n",
       "2021-01-04     1  "
      ]
     },
     "execution_count": 35,
     "metadata": {},
     "output_type": "execute_result"
    }
   ],
   "source": [
    "df = pd.read_csv('NLP_data_comp_SamsungSDI.csv', encoding = 'utf-8-sig', index_col=0)\n",
    "df.drop_duplicates('제목', inplace = True)  # 기사제목 중복 제거\n",
    "df.head()"
   ]
  },
  {
   "cell_type": "code",
   "execution_count": 36,
   "id": "7d1f00dd",
   "metadata": {
    "ExecuteTime": {
     "end_time": "2022-07-05T00:01:26.603123Z",
     "start_time": "2022-07-05T00:01:26.589972Z"
    }
   },
   "outputs": [],
   "source": [
    "# 형태소 분석을 위한 함수\n",
    "def tokenizer(text):\n",
    "    okt = Okt()\n",
    "    return okt.morphs(text)"
   ]
  },
  {
   "cell_type": "code",
   "execution_count": 37,
   "id": "14a60baf",
   "metadata": {
    "ExecuteTime": {
     "end_time": "2022-07-05T00:01:27.823672Z",
     "start_time": "2022-07-05T00:01:27.804653Z"
    }
   },
   "outputs": [],
   "source": [
    "# X : title, y : price\n",
    "def data_split(X, y):\n",
    "    # 수집한 데이터 읽어오기\n",
    "    # news_df = pd.read_excel()\n",
    "    # 학습셋, 테스트셋 분리\n",
    "    X_list = X.tolist()\n",
    "    y_list = y.tolist()\n",
    "    # 데이터의 80%는 학습셋, 20%는 테스트셋\n",
    "    x_train, x_test, y_train, y_test = train_test_split(X, y, test_size=0.2, random_state=0)\n",
    "    return x_train, x_test, y_train, y_test"
   ]
  },
  {
   "cell_type": "code",
   "execution_count": 38,
   "id": "88fc8fbe",
   "metadata": {
    "ExecuteTime": {
     "end_time": "2022-07-05T00:01:28.935071Z",
     "start_time": "2022-07-05T00:01:28.875796Z"
    }
   },
   "outputs": [],
   "source": [
    "x_train, x_test, y_train, y_test = data_split(df['제목'], df['감성지수'])"
   ]
  },
  {
   "cell_type": "code",
   "execution_count": 39,
   "id": "6fc1f31a",
   "metadata": {
    "ExecuteTime": {
     "end_time": "2022-07-05T00:01:30.265541Z",
     "start_time": "2022-07-05T00:01:30.247774Z"
    }
   },
   "outputs": [],
   "source": [
    "vect = CountVectorizer()"
   ]
  },
  {
   "cell_type": "code",
   "execution_count": 40,
   "id": "40836d14",
   "metadata": {
    "ExecuteTime": {
     "end_time": "2022-07-05T00:01:31.376109Z",
     "start_time": "2022-07-05T00:01:31.369602Z"
    }
   },
   "outputs": [],
   "source": [
    "# tfidf\n",
    "tfidf = TfidfTransformer()\n",
    "# tfidf = TfidfVectorizer(lowercase=False, tokenizer=tokenizer)"
   ]
  },
  {
   "cell_type": "code",
   "execution_count": 41,
   "id": "d7f401b9",
   "metadata": {
    "ExecuteTime": {
     "end_time": "2022-07-05T00:01:32.228533Z",
     "start_time": "2022-07-05T00:01:32.217526Z"
    }
   },
   "outputs": [],
   "source": [
    "# 로지스틱\n",
    "logistic = LogisticRegression(random_state=0)    \n",
    "# logistic = LogisticRegression(C=2, penalty='l2', random_state=0)     # C의 숫자가 너무 크면 과적합 (기본 1), penalty로 과적합 방지"
   ]
  },
  {
   "cell_type": "code",
   "execution_count": 47,
   "id": "6649a09e",
   "metadata": {
    "ExecuteTime": {
     "end_time": "2022-07-05T00:04:47.480382Z",
     "start_time": "2022-07-05T00:04:47.472863Z"
    }
   },
   "outputs": [],
   "source": [
    "pipeline = Pipeline([('vect',vect), ('tfidf',tfidf), ('clf',logistic)], verbose=True)"
   ]
  },
  {
   "cell_type": "code",
   "execution_count": 48,
   "id": "ddfb7b14",
   "metadata": {
    "ExecuteTime": {
     "end_time": "2022-07-05T00:04:55.085754Z",
     "start_time": "2022-07-05T00:04:48.210238Z"
    }
   },
   "outputs": [
    {
     "name": "stdout",
     "output_type": "stream",
     "text": [
      "[Pipeline] .............. (step 1 of 3) Processing vect, total=   2.9s\n",
      "[Pipeline] ............. (step 2 of 3) Processing tfidf, total=   0.1s\n",
      "[Pipeline] ............... (step 3 of 3) Processing clf, total=   3.9s\n"
     ]
    },
    {
     "data": {
      "text/plain": [
       "Pipeline(steps=[('vect', CountVectorizer()), ('tfidf', TfidfTransformer()),\n",
       "                ('clf', LogisticRegression(random_state=0))],\n",
       "         verbose=True)"
      ]
     },
     "execution_count": 48,
     "metadata": {},
     "output_type": "execute_result"
    }
   ],
   "source": [
    "pipeline.fit(x_train, y_train)"
   ]
  },
  {
   "cell_type": "code",
   "execution_count": 49,
   "id": "6453efdd",
   "metadata": {
    "ExecuteTime": {
     "end_time": "2022-07-05T00:05:13.556331Z",
     "start_time": "2022-07-05T00:05:12.925305Z"
    }
   },
   "outputs": [],
   "source": [
    "y_pred = pipeline.predict(x_test)"
   ]
  },
  {
   "cell_type": "code",
   "execution_count": 50,
   "id": "23bc6efd",
   "metadata": {
    "ExecuteTime": {
     "end_time": "2022-07-05T00:05:17.887349Z",
     "start_time": "2022-07-05T00:05:17.863749Z"
    }
   },
   "outputs": [
    {
     "name": "stdout",
     "output_type": "stream",
     "text": [
      "모델 정확도: 0.5978957988037761\n"
     ]
    }
   ],
   "source": [
    "print('모델 정확도:', accuracy_score(y_test, y_pred))"
   ]
  },
  {
   "cell_type": "code",
   "execution_count": 51,
   "id": "3b7b5cff",
   "metadata": {
    "ExecuteTime": {
     "end_time": "2022-07-05T00:05:38.901982Z",
     "start_time": "2022-07-05T00:05:20.450055Z"
    }
   },
   "outputs": [
    {
     "name": "stdout",
     "output_type": "stream",
     "text": [
      "[Pipeline] .............. (step 1 of 3) Processing vect, total=   2.1s\n",
      "[Pipeline] ............. (step 2 of 3) Processing tfidf, total=   0.1s\n",
      "[Pipeline] ............... (step 3 of 3) Processing clf, total=   2.6s\n",
      "[Pipeline] .............. (step 1 of 3) Processing vect, total=   1.9s\n",
      "[Pipeline] ............. (step 2 of 3) Processing tfidf, total=   0.1s\n",
      "[Pipeline] ............... (step 3 of 3) Processing clf, total=   2.9s\n",
      "[Pipeline] .............. (step 1 of 3) Processing vect, total=   2.1s\n",
      "[Pipeline] ............. (step 2 of 3) Processing tfidf, total=   0.1s\n",
      "[Pipeline] ............... (step 3 of 3) Processing clf, total=   3.9s\n",
      "평균 모델 score: 0.5877036529927157\n"
     ]
    }
   ],
   "source": [
    "from sklearn.model_selection import cross_val_score\n",
    "scores = cross_val_score(pipeline, x_train, y_train, cv=3, scoring='f1_micro')\n",
    "print('평균 모델 score:', scores.mean())"
   ]
  },
  {
   "cell_type": "code",
   "execution_count": 52,
   "id": "392f1462",
   "metadata": {
    "ExecuteTime": {
     "end_time": "2022-07-05T00:05:42.413651Z",
     "start_time": "2022-07-05T00:05:42.400307Z"
    }
   },
   "outputs": [],
   "source": [
    "#  모델 저장\n",
    "def save_model(model):\n",
    "    with open('pipe.dat', 'wb') as fp:     # 쓰기, 바탕화면에 저장됨\n",
    "        pickle.dump(model, fp)\n",
    "    print('저장완료')     # 학습된 모델 저장 완료"
   ]
  },
  {
   "cell_type": "code",
   "execution_count": 53,
   "id": "276ab1a3",
   "metadata": {
    "ExecuteTime": {
     "end_time": "2022-07-05T00:05:43.490418Z",
     "start_time": "2022-07-05T00:05:43.394733Z"
    }
   },
   "outputs": [
    {
     "name": "stdout",
     "output_type": "stream",
     "text": [
      "저장완료\n"
     ]
    }
   ],
   "source": [
    "save_model(pipeline)"
   ]
  },
  {
   "cell_type": "code",
   "execution_count": 54,
   "id": "135bfd86",
   "metadata": {
    "ExecuteTime": {
     "end_time": "2022-07-05T00:05:44.485297Z",
     "start_time": "2022-07-05T00:05:44.467723Z"
    }
   },
   "outputs": [],
   "source": [
    "# 모델 사용 함수\n",
    "def model_prediction():  \n",
    "    # 객체를 복원, 저장된 모델 불러오기\n",
    "    with open('pipe.dat','rb') as fp:     # 읽기\n",
    "        pipe = pickle.load(fp)\n",
    "    while True :\n",
    "        text = input('뉴스 타이틀을 입력해주세요(종료를 원하시면 \"q\"를 입력해주세요) : ')\n",
    "        example = [text]\n",
    "        # 예측 정확도\n",
    "        r1 = np.max(pipe.predict_proba(example)*100)     # 확률값을 구해서 *100\n",
    "        # 예측 결과\n",
    "        r2 = pipe.predict(example)[0]     # 긍정('1'), 부정('0')\n",
    "        if text == 'q':\n",
    "            print(\"예측을 종료합니다.\")\n",
    "            break\n",
    "        if r2 == '1':\n",
    "            print(f'{stock_name} 주가가 상승할 것으로 예상됩니다.')\n",
    "        else: \n",
    "            print(f'{stock_name} 주가가 하락할 것으로 예상됩니다.')\n",
    "        print('확률 : %.3f' % r1)\n",
    "        print('------------------------------------------------')"
   ]
  },
  {
   "cell_type": "code",
   "execution_count": 55,
   "id": "5c01914f",
   "metadata": {
    "ExecuteTime": {
     "end_time": "2022-07-05T00:07:29.291934Z",
     "start_time": "2022-07-05T00:05:46.211293Z"
    }
   },
   "outputs": [
    {
     "name": "stdout",
     "output_type": "stream",
     "text": [
      "뉴스 타이틀을 입력해주세요(종료를 원하시면 \"q\"를 입력해주세요) : [속보] 코스피, 21.77포인트(0.95%) 오른 2322.11 출발\n",
      "삼성SDI 주가가 하락할 것으로 예상됩니다.\n",
      "확률 : 56.602\n",
      "------------------------------------------------\n",
      "뉴스 타이틀을 입력해주세요(종료를 원하시면 \"q\"를 입력해주세요) : 코스피 상승 출발…2,320대로 올라\n",
      "삼성SDI 주가가 하락할 것으로 예상됩니다.\n",
      "확률 : 53.070\n",
      "------------------------------------------------\n",
      "뉴스 타이틀을 입력해주세요(종료를 원하시면 \"q\"를 입력해주세요) : LG에너지솔루션, 美배터리 공장 재검토 악재 아냐-현대차증권\n",
      "삼성SDI 주가가 하락할 것으로 예상됩니다.\n",
      "확률 : 77.195\n",
      "------------------------------------------------\n",
      "뉴스 타이틀을 입력해주세요(종료를 원하시면 \"q\"를 입력해주세요) : 글람, 실적 성장 등 체질 개선 \"올해 매출 400억·영업익 100억 전망\"\n",
      "삼성SDI 주가가 하락할 것으로 예상됩니다.\n",
      "확률 : 57.988\n",
      "------------------------------------------------\n",
      "뉴스 타이틀을 입력해주세요(종료를 원하시면 \"q\"를 입력해주세요) : 삼성SDI 영업이익 상승 전망\n",
      "삼성SDI 주가가 하락할 것으로 예상됩니다.\n",
      "확률 : 53.681\n",
      "------------------------------------------------\n",
      "뉴스 타이틀을 입력해주세요(종료를 원하시면 \"q\"를 입력해주세요) : q\n",
      "예측을 종료합니다.\n"
     ]
    }
   ],
   "source": [
    "model_prediction()"
   ]
  }
 ],
 "metadata": {
  "kernelspec": {
   "display_name": "Python 3 (ipykernel)",
   "language": "python",
   "name": "python3"
  },
  "language_info": {
   "codemirror_mode": {
    "name": "ipython",
    "version": 3
   },
   "file_extension": ".py",
   "mimetype": "text/x-python",
   "name": "python",
   "nbconvert_exporter": "python",
   "pygments_lexer": "ipython3",
   "version": "3.9.12"
  },
  "toc": {
   "base_numbering": 1,
   "nav_menu": {},
   "number_sections": true,
   "sideBar": true,
   "skip_h1_title": false,
   "title_cell": "Table of Contents",
   "title_sidebar": "Contents",
   "toc_cell": false,
   "toc_position": {},
   "toc_section_display": true,
   "toc_window_display": false
  },
  "varInspector": {
   "cols": {
    "lenName": 16,
    "lenType": 16,
    "lenVar": 40
   },
   "kernels_config": {
    "python": {
     "delete_cmd_postfix": "",
     "delete_cmd_prefix": "del ",
     "library": "var_list.py",
     "varRefreshCmd": "print(var_dic_list())"
    },
    "r": {
     "delete_cmd_postfix": ") ",
     "delete_cmd_prefix": "rm(",
     "library": "var_list.r",
     "varRefreshCmd": "cat(var_dic_list()) "
    }
   },
   "types_to_exclude": [
    "module",
    "function",
    "builtin_function_or_method",
    "instance",
    "_Feature"
   ],
   "window_display": false
  }
 },
 "nbformat": 4,
 "nbformat_minor": 5
}
